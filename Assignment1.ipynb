{
  "nbformat": 4,
  "nbformat_minor": 0,
  "metadata": {
    "colab": {
      "provenance": []
    },
    "kernelspec": {
      "name": "python3",
      "display_name": "Python 3"
    },
    "language_info": {
      "name": "python"
    }
  },
  "cells": [
    {
      "cell_type": "markdown",
      "source": [
        "Q1. Create one variable containing following type of data:\n",
        "(i) string\n",
        "(ii) list\n",
        "(iii) float\n",
        "(iv) tuple"
      ],
      "metadata": {
        "id": "vxqqlxOIngnI"
      }
    },
    {
      "cell_type": "code",
      "source": [
        "s=\"Data science masters courses by PW\""
      ],
      "metadata": {
        "id": "momaCefnnoOH"
      },
      "execution_count": 5,
      "outputs": []
    },
    {
      "cell_type": "code",
      "source": [
        "l= [1,2,3,\"pw skills\",\"data science\"]"
      ],
      "metadata": {
        "id": "qcujmsP5obiU"
      },
      "execution_count": 10,
      "outputs": []
    },
    {
      "cell_type": "code",
      "source": [
        "f=5.0"
      ],
      "metadata": {
        "id": "PyE9uHm-pEMz"
      },
      "execution_count": 12,
      "outputs": []
    },
    {
      "cell_type": "code",
      "source": [
        "t=(1,2,3,\"pw skills\",\"data science\")"
      ],
      "metadata": {
        "id": "-2FDD-Bdpo8H"
      },
      "execution_count": 13,
      "outputs": []
    },
    {
      "cell_type": "markdown",
      "source": [
        "Q2. Given are some following variables containing data:"
      ],
      "metadata": {
        "id": "lDLVzNnzqUjn"
      }
    },
    {
      "cell_type": "markdown",
      "source": [
        "(i) var1 = ‘ ‘ --> String"
      ],
      "metadata": {
        "id": "IXw0VWhWqftt"
      }
    },
    {
      "cell_type": "markdown",
      "source": [
        "(ii) var2 = ‘[ DS , ML , Python]’ --> String"
      ],
      "metadata": {
        "id": "LaRJj8xMq0_1"
      }
    },
    {
      "cell_type": "markdown",
      "source": [
        "(iii) var3 = [ ‘DS’ , ’ML’ , ‘Python’ ] --> list"
      ],
      "metadata": {
        "id": "RsFKmcLWrBsJ"
      }
    },
    {
      "cell_type": "markdown",
      "source": [
        "(iv) var4 = 1. --> float"
      ],
      "metadata": {
        "id": "5J8N_Eq8rIuj"
      }
    },
    {
      "cell_type": "markdown",
      "source": [
        "Q3. Explain the use of the following operators using an example:"
      ],
      "metadata": {
        "id": "3y2MP8Gtsa7d"
      }
    },
    {
      "cell_type": "markdown",
      "source": [
        "(i) / --> (Division operator) - When two number is divided it's return the quotient.\n",
        "eg- 3/2 - 1.5"
      ],
      "metadata": {
        "id": "ERolp6Ptsli5"
      }
    },
    {
      "cell_type": "markdown",
      "source": [
        "(ii) % --> (Modulus operator) - It is used to return the remainder when two number is divided.\n",
        "eg--> 3%2 - 1"
      ],
      "metadata": {
        "id": "wislfgPAtado"
      }
    },
    {
      "cell_type": "markdown",
      "source": [
        "(iii) // --> (Floor division) - It is used to divide the first number from second number and rounds the result into the nearest integer.\n",
        "eg--> 15//2 - 7"
      ],
      "metadata": {
        "id": "txYozoYWufeb"
      }
    },
    {
      "cell_type": "markdown",
      "source": [
        "(iv) ** --> (Exponentiation) - It is used to get the power of the number\n",
        "eg--> 2**3 - 8"
      ],
      "metadata": {
        "id": "arS2SvPowJln"
      }
    },
    {
      "cell_type": "markdown",
      "source": [
        "Q4. Create a list of length 10 of your choice containing multiple types of data. Using for loop print the\n",
        "element and its data type."
      ],
      "metadata": {
        "id": "I1Uo2Pm1w_ZB"
      }
    },
    {
      "cell_type": "code",
      "source": [
        "list=[1,2.3,'Data science',[2,4],(2,3),9,'pw skills',7,8.6,4]\n",
        "for l in list:\n",
        "  print(l,type(l))"
      ],
      "metadata": {
        "id": "VjFL9Z-4xD5r"
      },
      "execution_count": null,
      "outputs": []
    },
    {
      "cell_type": "markdown",
      "source": [
        "Q5. Using a while loop, verify if the number A is purely divisible by number B and if so then how many\n",
        "times it can be divisible."
      ],
      "metadata": {
        "id": "JAMRz-wlykx9"
      }
    },
    {
      "cell_type": "code",
      "source": [
        "A=32\n",
        "B=2\n",
        "count=0\n",
        "while A%B ==0:\n",
        "  count +=1\n",
        "  A=A//B\n",
        "print(count)"
      ],
      "metadata": {
        "id": "nEJIP_axyq7l"
      },
      "execution_count": null,
      "outputs": []
    },
    {
      "cell_type": "markdown",
      "source": [
        "Q6. Create a list containing 25 int type data. Using for loop and if-else condition print if the element is\n",
        "divisible by 3 or not."
      ],
      "metadata": {
        "id": "cDZ2I2RTzvdC"
      }
    },
    {
      "cell_type": "code",
      "source": [
        "li=[1,2,3,4,5,6,7,8,9,10,11,12,13,14,15,16,17,18,19,20,21,22,23,24,25]\n",
        "for l in li:\n",
        "  if l%3==0:\n",
        "    print(l ,\" is divisible by 3\")\n",
        "  else:\n",
        "    print(l,\" is not divisible by 3\")"
      ],
      "metadata": {
        "id": "111EeVDvz6xz"
      },
      "execution_count": null,
      "outputs": []
    },
    {
      "cell_type": "markdown",
      "source": [
        "Q7. What do you understand about mutable and immutable data types? Give examples for both showing\n",
        "this property."
      ],
      "metadata": {
        "id": "HjM1Ax6P1dYY"
      }
    },
    {
      "cell_type": "markdown",
      "source": [
        "Mutable data types --> Mutable data types are those whose values can be changed or new values can be assigned to them List, Sets, and Dictionary in Python are examples of mutable data types.\n",
        "\n",
        "Immutable data types -->Immutable data types are those, whose values cannot be modified once they are created. Examples of immutable data types are int, str, bool, float, tuple, etc."
      ],
      "metadata": {
        "id": "iDuYMK6A1ev6"
      }
    }
  ]
}