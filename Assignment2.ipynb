{
  "nbformat": 4,
  "nbformat_minor": 0,
  "metadata": {
    "colab": {
      "provenance": []
    },
    "kernelspec": {
      "name": "python3",
      "display_name": "Python 3"
    },
    "language_info": {
      "name": "python"
    }
  },
  "cells": [
    {
      "cell_type": "markdown",
      "source": [
        "Q1. How do you comment code in Python? What are the different types of comments?"
      ],
      "metadata": {
        "id": "S39566uUumTJ"
      }
    },
    {
      "cell_type": "markdown",
      "source": [
        "There are two types of comments in python\n",
        "1. Single line comment - #\n",
        "                      eg- # Data science course from pw skills\n",
        "2. Multi line comment - ''' ''', \"\"\" \"\"\"\n",
        "                      eg- '''\n",
        "                              data science masters couse\n",
        "                              from PW skills\n",
        "                              by Sudhanshu sir\n",
        "                         ''' \n",
        "                         or\n",
        "                        \"\"\"\n",
        "                              data science masters couse\n",
        "                              from PW skills\n",
        "                              by Sudhanshu sir\n",
        "                        \"\"\"   \n"
      ],
      "metadata": {
        "id": "a2qlIlrtuupv"
      }
    },
    {
      "cell_type": "markdown",
      "source": [
        "Q2. What are variables in Python? How do you declare and assign values to variables?"
      ],
      "metadata": {
        "id": "5QCevyUqwKOk"
      }
    },
    {
      "cell_type": "markdown",
      "source": [
        "Variables are containers for storing data values."
      ],
      "metadata": {
        "id": "2BwdCxUrwsbV"
      }
    },
    {
      "cell_type": "code",
      "source": [
        "x=10\n",
        "s=\"PW Skills\"\n",
        "y=10.5"
      ],
      "metadata": {
        "id": "603bm9tYwxvQ"
      },
      "execution_count": null,
      "outputs": []
    },
    {
      "cell_type": "markdown",
      "source": [
        "Q3. How do you convert one data type to another in Python?\n"
      ],
      "metadata": {
        "id": "CahClCeUxKW3"
      }
    },
    {
      "cell_type": "markdown",
      "source": [
        "we can convert one data type to another by using type casting(function like str(),int() etc)\n",
        "\n",
        "eg- x=10\n",
        "\n",
        "  if we want to convert the int data type into string then we need to use str function.\n",
        "\n",
        "  s=str(x)\n",
        "  \n",
        "  if we check the type(s) it will give the output as string"
      ],
      "metadata": {
        "id": "YYu8OMXiRT3n"
      }
    },
    {
      "cell_type": "code",
      "source": [
        "x=10\n",
        "type(x) #int\n",
        "s=str(x)\n",
        "type(s) #str"
      ],
      "metadata": {
        "colab": {
          "base_uri": "https://localhost:8080/"
        },
        "id": "W1278gjQzwKE",
        "outputId": "2cdf3302-7013-49ed-9fb5-e09ad8e1f90e"
      },
      "execution_count": 6,
      "outputs": [
        {
          "output_type": "execute_result",
          "data": {
            "text/plain": [
              "str"
            ]
          },
          "metadata": {},
          "execution_count": 6
        }
      ]
    },
    {
      "cell_type": "markdown",
      "source": [
        "Q4. How do you write and execute a Python script from the command line?"
      ],
      "metadata": {
        "id": "TBHkhR1yzr8Y"
      }
    },
    {
      "cell_type": "markdown",
      "source": [
        "we can use two way,\n",
        "1. cd (location of python file) - python filename.py\n",
        "2. python (location of file with filename).py\n"
      ],
      "metadata": {
        "id": "ke-arqHA0Wyu"
      }
    },
    {
      "cell_type": "markdown",
      "source": [
        "Q5. Given a list my_list = [1, 2, 3, 4, 5], write the code to slice the list and obtain the sub-list [2, 3]."
      ],
      "metadata": {
        "id": "n52MoPBH2fcW"
      }
    },
    {
      "cell_type": "code",
      "source": [
        "my_list=[1,2,3,4,5]\n",
        "my_list[1:3]"
      ],
      "metadata": {
        "id": "dAqRu_Ej2qCh"
      },
      "execution_count": null,
      "outputs": []
    },
    {
      "cell_type": "markdown",
      "source": [
        "Q6. What is a complex number in mathematics, and how is it represented in Python?"
      ],
      "metadata": {
        "id": "sga2vNp63aJF"
      }
    },
    {
      "cell_type": "markdown",
      "source": [
        "Complex numbers are the numbers that are expressed in the form of a+ib where, a,b are real numbers and  ‘i’ is an imaginary number called “iota”. The value of i = (√-1). \n",
        "\n",
        "eg- 2+3i is a complex number, where 2 is a real number and 3i is an imaginary number. \n",
        "\n",
        "In python we can represent complex number as\n",
        "\n",
        "x =4+3j\n",
        "\n",
        "print(x.real) - to get real number\n",
        "\n",
        "print(x.imag) - to get imaginary number"
      ],
      "metadata": {
        "id": "ERVaW6Ty3v7_"
      }
    },
    {
      "cell_type": "markdown",
      "source": [
        "Q7. What is the correct way to declare a variable named age and assign the value 25 to it?"
      ],
      "metadata": {
        "id": "bzREu1785rjr"
      }
    },
    {
      "cell_type": "code",
      "source": [
        "age=25"
      ],
      "metadata": {
        "id": "UL6qy3D3QGua"
      },
      "execution_count": null,
      "outputs": []
    },
    {
      "cell_type": "markdown",
      "source": [
        "Q8. Declare a variable named price and assign the value 9.99 to it. What data type does this variable \n",
        "belong to?"
      ],
      "metadata": {
        "id": "GE44ymEAQI-y"
      }
    },
    {
      "cell_type": "code",
      "source": [
        "price = 9.99\n",
        "type(price)  #float"
      ],
      "metadata": {
        "id": "ovMoIXPTQQoT"
      },
      "execution_count": null,
      "outputs": []
    },
    {
      "cell_type": "markdown",
      "source": [
        "Q9. Create a variable named name and assign your full name to it as a string. How would you print the \n",
        "value of this variable?"
      ],
      "metadata": {
        "id": "Ya7CgfEVQal9"
      }
    },
    {
      "cell_type": "code",
      "source": [
        "name=\"Raushan Kumar\"\n",
        "print(name)"
      ],
      "metadata": {
        "id": "IMIy7ZfUQju5"
      },
      "execution_count": null,
      "outputs": []
    },
    {
      "cell_type": "markdown",
      "source": [
        "Q10. Given the string \"Hello, World!\", extract the substring \"World\""
      ],
      "metadata": {
        "id": "goW0f0lvQ0Kg"
      }
    },
    {
      "cell_type": "code",
      "source": [
        "s=\"Hello World!\"\n",
        "s[6:11]"
      ],
      "metadata": {
        "id": "Y_sQ7yK4Q5kb"
      },
      "execution_count": null,
      "outputs": []
    },
    {
      "cell_type": "markdown",
      "source": [
        "Q11. Create a variable named \"is_student\" and assign it a boolean value indicating whether you are \n",
        "currently a student or not."
      ],
      "metadata": {
        "id": "OjTdgMdrR4mw"
      }
    },
    {
      "cell_type": "code",
      "source": [
        "is_student=True\n",
        "if is_student == True:\n",
        "    print(\"you are currently a student\")\n",
        "else:\n",
        "    print(\"you are currently not a student\")\n",
        "\n",
        "#o/p= You are currently a student\n"
      ],
      "metadata": {
        "id": "3g8aPHOiSJuP"
      },
      "execution_count": null,
      "outputs": []
    },
    {
      "cell_type": "code",
      "source": [
        "is_student=False\n",
        "if is_student == True:\n",
        "    print(\"you are currently a student\")\n",
        "else:\n",
        "    print(\"you are currently not a student\")\n",
        "\n",
        "#o/p= You are currently a not student"
      ],
      "metadata": {
        "id": "MlIqevw0awQ1"
      },
      "execution_count": null,
      "outputs": []
    }
  ]
}