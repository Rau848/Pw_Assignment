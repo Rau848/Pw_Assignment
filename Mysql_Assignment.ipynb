{
 "cells": [
  {
   "cell_type": "markdown",
   "id": "627a6d06-1bae-4210-9a7f-5d44f0f7c3c2",
   "metadata": {},
   "source": [
    "Q1. What is a database? Differentiate between SQL and NoSQL databases."
   ]
  },
  {
   "cell_type": "markdown",
   "id": "cf9737fb-58ca-4526-8b33-4cd5d7ca5c32",
   "metadata": {},
   "source": [
    "A database is an organized collection of data, so that it can be easily accessed and managed.\n",
    "\n",
    "SQL databases are primarily called Relational Databases (RDBMS), whereas NoSQL databases are primarily called non-relational or distributed databases. \n",
    "\n",
    "SQL requires to use predefined schemas to determine the structure of data before the work with it. Also, all of the data must follow the same structure. where as A NoSQL database has a dynamic schema for unstructured data. Data is stored in many ways which means it can be document-oriented, column-oriented, graph-based, or organized as a key-value store."
   ]
  },
  {
   "cell_type": "markdown",
   "id": "e7e8e587-5cd0-45f7-93c9-16cf3bbc71d6",
   "metadata": {},
   "source": [
    "Q2. What is DDL? Explain why CREATE, DROP, ALTER, and TRUNCATE are used with an example."
   ]
  },
  {
   "cell_type": "markdown",
   "id": "21a28fbf-13e1-4f47-8219-e4f6384e3114",
   "metadata": {},
   "source": [
    "Data Definition Language actually consists of the SQL commands that can be used to define the database schema. It simply deals with descriptions of the database schema and is used to create and modify the structure of database objects in the database. DDL is a set of SQL commands used to create, modify, and delete database structures but not data. \n",
    "\n",
    "CREATE- This command is used to create the database or its objects (like table, index, function, views, store procedure, and triggers).\n",
    "\n",
    "eg- CREATE TABLE Student   \n",
    "(  \n",
    "Roll_No. Int ,    \n",
    "First_Name Varchar (20) ,    \n",
    "Last_Name Varchar (20) ,    \n",
    "Age Int ,  \n",
    "Marks Int ,   \n",
    ") ;     \n",
    "\n",
    "DROP- This command is used to delete objects from the database.\n",
    "\n",
    "eg-DROP TABLE Student; \n",
    "\n",
    "ALTER- This is used to alter the structure of the database.\n",
    "\n",
    "eg- ALTER TABLE Student ADD Father's_Name Varchar(60);  \n",
    "\n",
    "TRUNCATE- This is used to remove all records from a table, including all spaces allocated for the records are removed.\n",
    "\n",
    "eg- TRUNCATE TABLE Student; "
   ]
  },
  {
   "cell_type": "markdown",
   "id": "c9f1d683-a2e4-4049-80b3-83853f446a46",
   "metadata": {},
   "source": [
    "Q3. What is DML? Explain INSERT, UPDATE, and DELETE with an example."
   ]
  },
  {
   "cell_type": "markdown",
   "id": "5e46fba5-3310-44ee-901e-c2e68fa8005a",
   "metadata": {},
   "source": [
    "The SQL commands that deal with the manipulation of data present in the database belong to DML or Data Manipulation Language and this includes most of the SQL statements. It is the component of the SQL statement that controls access to data and to the database. \n",
    "\n",
    "INSERT- It is used to insert data into a table.\n",
    "\n",
    "eg- INSERT INTO Student (Stu_id, Stu_Name, Stu_Marks, Stu_Age) VALUES (1001, Raushan, 96, 25);  \n",
    "\n",
    "UPDATE- It is used to update existing data within a table.\n",
    "\n",
    "eg- UPDATE Student SET Stu_Marks = 80, Stu_Age = 21 WHERE Stu_Id = 103 AND Stu_Id = 202;  \n",
    "\n",
    "DELETE- It is used to delete records from a database table.\n",
    "\n",
    "eg- DELETE FROM Student WHERE Stu_Marks > 70 ;  "
   ]
  },
  {
   "cell_type": "markdown",
   "id": "5c80838a-3863-4851-9982-d49910b84082",
   "metadata": {},
   "source": [
    "Q4. What is DQL? Explain SELECT with an example."
   ]
  },
  {
   "cell_type": "markdown",
   "id": "7344a606-b6b2-486b-b957-3827ef595499",
   "metadata": {},
   "source": [
    "DQL statements are used for performing queries on the data within schema objects. The purpose of the DQL Command is to get some schema relation based on the query passed to it. We can define DQL as follows it is a component of SQL statement that allows getting data from the database and imposing order upon it. It includes the SELECT statement. This command allows getting the data out of the database to perform operations with it.\n",
    "\n",
    "SELECT- It is used to retrieve data from the database.\n",
    "\n",
    "eg- SELECT * FROM Student; "
   ]
  },
  {
   "cell_type": "markdown",
   "id": "ba9c45d5-f3af-4deb-981d-51f1deecbb32",
   "metadata": {},
   "source": [
    "Q5. Explain Primary Key and Foreign Key."
   ]
  },
  {
   "cell_type": "markdown",
   "id": "cb4ed77e-14a9-4ff3-969c-476d12363c6c",
   "metadata": {},
   "source": [
    "Primary Key- The primary key is a unique or non-null key that uniquely identifies every record in a table or relation. Each database needs a unique identifier for every row of a table, and the primary key plays a vital role in identifying rows in the table uniquely. The primary key column can't store duplicate values. It is also called a minimal super key; therefore, we cannot specify more than one primary key in any relationship.\n",
    "\n",
    "eg- creating primary key\n",
    "\n",
    "CREATE TABLE STUDENT_DETAIL (  \n",
    "Roll_no int NOT NULL PRIMARY KEY,  \n",
    "Name varchar (200) NOT NULL,  \n",
    "Marks int NOT NULL  \n",
    "} ;  \n",
    "\n",
    "Foreign Key- The foreign key is a group of one or more columns in a database to uniquely identify another database record in some other table to maintain the referential integrity. It is also known as the referencing key that establishes a relationship between two different tables in a database. A foreign key always matches the primary key column in another table. It means a foreign key column in one table refers to the primary key column of another table. A foreign key is beneficial in relational database normalization, especially when we need to access records from other tables.\n",
    "\n",
    "eg- creating foreign key\n",
    "\n",
    "    CREATE TABLE Orders (\n",
    "    OrderID int NOT NULL,\n",
    "    OrderNumber int NOT NULL,\n",
    "    PersonID int,\n",
    "    PRIMARY KEY (OrderID),\n",
    "    FOREIGN KEY (PersonID) REFERENCES Persons(PersonID)\n",
    ");"
   ]
  },
  {
   "cell_type": "markdown",
   "id": "25c18ab6-8ff7-48f7-802f-3048e4bec1b1",
   "metadata": {},
   "source": [
    "Q6. Write a python code to connect MySQL to python. Explain the cursor() and execute() method."
   ]
  },
  {
   "cell_type": "markdown",
   "id": "4ad1efb1-3814-4174-ba78-975faceac129",
   "metadata": {},
   "source": [
    "import mysql.connector\n",
    "\n",
    "mydb = mysql.connector.connect(\n",
    "\n",
    "  host=\"localhost\",\n",
    "  \n",
    "  user=\"abc\",\n",
    "  \n",
    "  password=\"password\"\n",
    "  \n",
    ")\n",
    "\n",
    "print(mydb)\n",
    "\n",
    "mycursor = mydb.cursor()\n",
    "\n",
    "mycursor.execute(\"select * from test.test_table\")\n",
    "\n",
    "for i in mycursor.fetchall():\n",
    "\n",
    "    print(i)\n",
    "mydb.close()"
   ]
  },
  {
   "cell_type": "markdown",
   "id": "59fd940f-ee2d-4033-aacb-a633bcfdf4b0",
   "metadata": {},
   "source": [
    "Cursor() - The MySQLCursor of mysql-connector-python (and similar libraries) is used to execute statements to communicate with the MySQL database.\n",
    "\n",
    "execute()-Using this methods we can execute SQL statements, fetch data from the result sets, call procedures."
   ]
  },
  {
   "cell_type": "markdown",
   "id": "ad55c19a-597e-40f2-bec4-7f75ed74c3c8",
   "metadata": {},
   "source": [
    "Q7. Give the order of execution of SQL clauses in an SQL query."
   ]
  },
  {
   "cell_type": "markdown",
   "id": "a5b7222f-f56f-4816-be8f-d712b420330a",
   "metadata": {},
   "source": [
    "SELECT Statement Execution Order\n",
    "\n",
    "1. FROM clause\n",
    "2. ON clause\n",
    "3. OUTER clause\n",
    "4. WHERE clause\n",
    "5. GROUP BY clause\n",
    "6. HAVING clause\n",
    "7. SELECT clause\n",
    "8. DISTINCT clause\n",
    "9. ORDER BY clause\n",
    "10. TOP clause"
   ]
  },
  {
   "cell_type": "markdown",
   "id": "8d9edc12-053b-48ed-a916-eaf26ff269dc",
   "metadata": {},
   "source": [
    "eg- \n",
    "\n",
    "    SELECT DISTINCT <TOP_specification> <select_list>\n",
    "\n",
    "    FROM <left_table>\n",
    "\n",
    "    <join_type> JOIN <right_table>\n",
    "\n",
    "    ON <join_condition>\n",
    "\n",
    "    WHERE <where_condition>\n",
    "\n",
    "    GROUP BY <group_by_list>\n",
    "\n",
    "    HAVING <having_condition>\n",
    "\n",
    "    ORDER BY <order_by_list>"
   ]
  },
  {
   "cell_type": "code",
   "execution_count": null,
   "id": "f8de2624-afe6-42b4-a2e3-c60ad53fd418",
   "metadata": {},
   "outputs": [],
   "source": []
  }
 ],
 "metadata": {
  "kernelspec": {
   "display_name": "Python 3 (ipykernel)",
   "language": "python",
   "name": "python3"
  },
  "language_info": {
   "codemirror_mode": {
    "name": "ipython",
    "version": 3
   },
   "file_extension": ".py",
   "mimetype": "text/x-python",
   "name": "python",
   "nbconvert_exporter": "python",
   "pygments_lexer": "ipython3",
   "version": "3.10.8"
  }
 },
 "nbformat": 4,
 "nbformat_minor": 5
}
