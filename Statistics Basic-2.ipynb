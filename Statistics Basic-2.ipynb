{
 "cells": [
  {
   "cell_type": "markdown",
   "id": "6120dc35-ed4e-4c27-8081-9b3d10b0b53c",
   "metadata": {},
   "source": [
    "Q1. What are the three measures of central tendency? "
   ]
  },
  {
   "cell_type": "markdown",
   "id": "65c9ad03-ad34-4630-8d55-5569485852ed",
   "metadata": {},
   "source": [
    "The three measures of central tendency are the mean, median, and mode. Each measure provides different insights into the central value of a dataset.\n",
    "\n",
    "1. Mean: The mean, also known as the average, is calculated by summing all the values in a dataset and dividing by the total number of observations. It represents the arithmetic center of the data. The mean is sensitive to extreme values or outliers and is commonly used when the data is normally distributed or symmetric.\n",
    "\n",
    "2. Median: The median is the middle value in a sorted dataset. It separates the dataset into two equal halves. If there is an even number of observations, the median is the average of the two middle values. The median is not influenced by extreme values and is useful when the data is skewed or contains outliers.\n",
    "\n",
    "3. Mode: The mode is the value that appears most frequently in a dataset. It represents the most common or frequently occurring value. Unlike the mean and median, the mode is applicable to both numerical and categorical data."
   ]
  },
  {
   "cell_type": "markdown",
   "id": "3d2deebb-399d-47ca-a2e9-9f080e1e1629",
   "metadata": {},
   "source": [
    "Q2. What is the difference between the mean, median, and mode? How are they used to measure the  central tendency of a dataset? \n"
   ]
  },
  {
   "cell_type": "markdown",
   "id": "6bf832b3-09ac-42a7-ac0a-a749eb764bd3",
   "metadata": {},
   "source": [
    "The mean, median, and mode are measures of central tendency used to describe the central or typical value of a dataset. \n",
    "\n",
    "1. Mean: The mean, also known as the average, is calculated by summing all the values in a dataset and dividing by the total number of observations.\n",
    "\n",
    "Calculation: Mean = (Sum of all values) / (Total number of observations)\n",
    "\n",
    "Use: The mean provides an estimate of the central value of the dataset and is commonly used when the data is normally distributed or symmetric. It is sensitive to extreme values or outliers.\n",
    "\n",
    "2. Median: The median is the middle value in a sorted dataset. It separates the dataset into two equal halves.\n",
    "\n",
    "Calculation: To calculate the median, the dataset is arranged in ascending or descending order, and the middle value is identified. If there is an even number of observations, the median is the average of the two middle values.\n",
    "\n",
    "Use: The median is robust to extreme values or outliers and is suitable for skewed or non-normally distributed data. It represents the central value that divides the dataset into equal halves.\n",
    "\n",
    "3. Mode: The mode is the value that appears most frequently in a dataset.\n",
    "Calculation: The mode is determined by identifying the value with the highest frequency in the dataset.\n",
    "\n",
    "Use: The mode is used to identify the most common or frequently occurring value. It is applicable to both numerical and categorical data and provides insights into the dataset's predominant value or category.\n"
   ]
  },
  {
   "cell_type": "markdown",
   "id": "3b9850e5-2c01-4353-914a-442381acdb51",
   "metadata": {},
   "source": [
    "Q3. Measure the three measures of central tendency for the given height data: \n",
    "\n",
    "[178,177,176,177,178.2,178,175,179,180,175,178.9,176.2,177,172.5,178,176.5] "
   ]
  },
  {
   "cell_type": "code",
   "execution_count": 1,
   "id": "221608fb-2695-4a6b-b99d-90ca01d5fa61",
   "metadata": {},
   "outputs": [],
   "source": [
    "import numpy as np"
   ]
  },
  {
   "cell_type": "code",
   "execution_count": 2,
   "id": "6f85af7c-5107-419e-9fa6-78b2710ea1c9",
   "metadata": {},
   "outputs": [],
   "source": [
    "l=[178,177,176,177,178.2,178,175,179,180,175,178.9,176.2,177,172.5,178,176.5] \n"
   ]
  },
  {
   "cell_type": "code",
   "execution_count": 3,
   "id": "4c3328be-f06b-457a-888f-7c5515548d64",
   "metadata": {},
   "outputs": [
    {
     "data": {
      "text/plain": [
       "177.01875"
      ]
     },
     "execution_count": 3,
     "metadata": {},
     "output_type": "execute_result"
    }
   ],
   "source": [
    "np.mean(l)"
   ]
  },
  {
   "cell_type": "code",
   "execution_count": 4,
   "id": "6dfa8e4c-f74d-421d-b6b5-51a2f8caee7b",
   "metadata": {},
   "outputs": [
    {
     "data": {
      "text/plain": [
       "177.0"
      ]
     },
     "execution_count": 4,
     "metadata": {},
     "output_type": "execute_result"
    }
   ],
   "source": [
    "np.median(l)"
   ]
  },
  {
   "cell_type": "code",
   "execution_count": 7,
   "id": "c37d5d98-7c53-48f9-90a2-087a5843b6f5",
   "metadata": {},
   "outputs": [],
   "source": [
    "from scipy import stats"
   ]
  },
  {
   "cell_type": "code",
   "execution_count": 8,
   "id": "108fa889-942f-44f9-b67b-8eb47a19267e",
   "metadata": {},
   "outputs": [
    {
     "name": "stderr",
     "output_type": "stream",
     "text": [
      "/tmp/ipykernel_1658/2919890712.py:1: FutureWarning: Unlike other reduction functions (e.g. `skew`, `kurtosis`), the default behavior of `mode` typically preserves the axis it acts along. In SciPy 1.11.0, this behavior will change: the default value of `keepdims` will become False, the `axis` over which the statistic is taken will be eliminated, and the value None will no longer be accepted. Set `keepdims` to True or False to avoid this warning.\n",
      "  stats.mode(l)\n"
     ]
    },
    {
     "data": {
      "text/plain": [
       "ModeResult(mode=array([177.]), count=array([3]))"
      ]
     },
     "execution_count": 8,
     "metadata": {},
     "output_type": "execute_result"
    }
   ],
   "source": [
    "stats.mode(l)"
   ]
  },
  {
   "cell_type": "markdown",
   "id": "cd3208a9-7042-4a56-9dd2-5f888d6d2846",
   "metadata": {},
   "source": [
    "Q4. Find the standard deviation for the given data: \n",
    "\n",
    "[178,177,176,177,178.2,178,175,179,180,175,178.9,176.2,177,172.5,178,176.5] \n"
   ]
  },
  {
   "cell_type": "code",
   "execution_count": 9,
   "id": "0de003c9-9a38-4eab-95da-c52554dcfe82",
   "metadata": {},
   "outputs": [],
   "source": [
    "l1= [178,177,176,177,178.2,178,175,179,180,175,178.9,176.2,177,172.5,178,176.5] "
   ]
  },
  {
   "cell_type": "code",
   "execution_count": 10,
   "id": "1371445f-5bef-4570-8cf3-428c0a7d6759",
   "metadata": {},
   "outputs": [
    {
     "data": {
      "text/plain": [
       "1.7885814036548633"
      ]
     },
     "execution_count": 10,
     "metadata": {},
     "output_type": "execute_result"
    }
   ],
   "source": [
    "np.std(l1)"
   ]
  },
  {
   "cell_type": "markdown",
   "id": "1b5726ec-06bd-486d-a500-227a915247d5",
   "metadata": {},
   "source": [
    "Q5. How are measures of dispersion such as range, variance, and standard deviation used to describe  the spread of a dataset? Provide an example. "
   ]
  },
  {
   "cell_type": "markdown",
   "id": "7af5b0df-7c86-4a62-84bb-c57915d14688",
   "metadata": {},
   "source": [
    "Measures of dispersion, such as range, variance, and standard deviation, are used to describe the spread or variability of a dataset. They provide insights into how the data points are distributed around the central tendency. \n",
    "\n",
    "Examples-\n",
    "\n",
    "1. Range: The range is the simplest measure of dispersion and represents the difference between the maximum and minimum values in a dataset.\n",
    "\n",
    "Use: The range provides a basic understanding of the spread of the data by indicating the extent between the smallest and largest values. However, it does not consider the distribution of values within that range.\n",
    "\n",
    "2. Variance: Variance measures the average squared deviation from the mean. It quantifies how much the data points deviate from the mean value.\n",
    "\n",
    "Calculation: Variance is calculated by taking the average of the squared differences between each data point and the mean.\n",
    "Use: Variance provides a measure of the overall variability in the dataset. A higher variance indicates greater spread or dispersion of the data points from the mean.\n",
    "\n",
    "3. Standard Deviation: The standard deviation is the square root of the variance. It measures the average distance between each data point and the mean.\n",
    "\n",
    "Calculation: Standard deviation is calculated by taking the square root of the variance.\n",
    "\n",
    "Use: Standard deviation is widely used to describe the spread or dispersion of the dataset. It provides a more intuitive measure than variance as it is in the same unit as the data. A larger standard deviation indicates a wider spread of values.\n",
    "\n",
    "Example:\n",
    "\n",
    "Suppose you have a dataset representing the daily temperatures (in degrees Celsius) recorded over a week:\n",
    "[20, 21, 22, 19, 23, 18, 20]\n",
    "\n",
    "1. Range: The range is 23 - 18 = 5, indicating that the temperatures vary by 5 degrees over the week.\n",
    "\n",
    "2. Variance: After calculating the variance, you find it to be approximately 1.47, indicating the average squared deviation from the mean.\n",
    "\n",
    "3. Standard Deviation: The standard deviation is the square root of the variance, which is approximately 1.21. This indicates the average distance of the temperatures from the mean.\n"
   ]
  },
  {
   "cell_type": "code",
   "execution_count": 11,
   "id": "ac64b47f-a614-4028-8085-7c66fc971a37",
   "metadata": {},
   "outputs": [
    {
     "data": {
      "text/plain": [
       "5"
      ]
     },
     "execution_count": 11,
     "metadata": {},
     "output_type": "execute_result"
    }
   ],
   "source": [
    "data= [20, 21, 22, 19, 23, 18, 20]\n",
    "np.max(data) - np.min(data)"
   ]
  },
  {
   "cell_type": "code",
   "execution_count": 12,
   "id": "e84bc217-45f5-48e2-9310-9e78950ae7a5",
   "metadata": {},
   "outputs": [
    {
     "data": {
      "text/plain": [
       "2.530612244897959"
      ]
     },
     "execution_count": 12,
     "metadata": {},
     "output_type": "execute_result"
    }
   ],
   "source": [
    "np.var(data)"
   ]
  },
  {
   "cell_type": "code",
   "execution_count": 13,
   "id": "ad8e04d3-d12c-42d0-9d83-f09c94abbac9",
   "metadata": {},
   "outputs": [
    {
     "data": {
      "text/plain": [
       "1.5907898179514348"
      ]
     },
     "execution_count": 13,
     "metadata": {},
     "output_type": "execute_result"
    }
   ],
   "source": [
    "np.std(data)"
   ]
  },
  {
   "cell_type": "markdown",
   "id": "d1905002-1ab8-470f-a36d-9fda9636c87b",
   "metadata": {},
   "source": [
    "Q6. What is a Venn diagram? "
   ]
  },
  {
   "cell_type": "markdown",
   "id": "59aa71a2-0644-4efd-9406-b02210e02bec",
   "metadata": {},
   "source": [
    "A Venn diagram is a graphical representation used to show the relationships between sets of elements. It consists of overlapping circles or other shapes, each representing a set, with the overlapping regions representing the intersections or common elements between the sets. \n",
    "\n",
    "Here are some key features and uses of Venn diagrams:\n",
    "\n",
    "Sets and Elements: Each circle in a Venn diagram represents a set, and the elements or members of the set are depicted within the circle. The circles may partially or completely overlap to indicate the intersections or common elements between the sets.\n",
    "\n",
    "Intersections: The overlapping regions of the circles in a Venn diagram represent the intersections between the sets. These intersections show the elements that are common to multiple sets.\n",
    "\n",
    "Set Relationships: Venn diagrams can illustrate different types of set relationships, such as union (elements present in at least one set), intersection (elements present in all sets), and complement (elements not present in a specific set)."
   ]
  },
  {
   "cell_type": "markdown",
   "id": "a97ce77f-61c2-4053-87f8-487954542dd3",
   "metadata": {},
   "source": [
    "Q7. For the two given sets A = (2,3,4,5,6,7) & B = (0,2,6,8,10). Find: \n",
    "\n",
    "(i)   A ∩ B\n",
    "\n",
    "(ii) A ⋃ B \n"
   ]
  },
  {
   "cell_type": "markdown",
   "id": "9a5c5ad5-2860-4634-8f5b-356a52cf43c6",
   "metadata": {},
   "source": [
    " (i) A ∩ B - {2, 6}\n",
    " \n",
    " (ii) A ⋃ B - {0, 2, 3, 4, 5, 6, 7, 8, 10}\n",
    " "
   ]
  },
  {
   "cell_type": "markdown",
   "id": "eddceb3f-801f-47ed-a1c8-fad13415a60c",
   "metadata": {},
   "source": [
    "Q8. What do you understand about skewness in data?"
   ]
  },
  {
   "cell_type": "markdown",
   "id": "e25ef595-cfba-4a0a-b7ee-59009c0dbc13",
   "metadata": {},
   "source": [
    "Skewness in data refers to the measure of the asymmetry or lack of symmetry in a distribution. It describes the extent to which the data is skewed or distorted from a symmetrical distribution.\n",
    "\n",
    "A symmetrical distribution has a balanced shape, with the data points evenly distributed on both sides of the central tendency. In contrast, a skewed distribution displays an imbalance, where the data points are concentrated more on one side than the other.\n",
    "\n",
    "Skewness is typically measured using statistical measures such as the skewness coefficient or skewness index. The skewness coefficient can be positive, negative, or zero, indicating different types of skewness:\n",
    "\n",
    "Positive Skewness (Right Skewness): A positively skewed distribution has a long tail on the right side, indicating that the majority of the data points are concentrated on the left side. The mean is typically greater than the median, pulling the overall distribution towards higher values.\n",
    "\n",
    "Negative Skewness (Left Skewness): A negatively skewed distribution has a long tail on the left side, indicating that the majority of the data points are concentrated on the right side. The mean is typically less than the median, pulling the overall distribution towards lower values.\n",
    "\n",
    "Zero Skewness: A perfectly symmetrical distribution has zero skewness, meaning the data is evenly distributed around the mean, and the tails are of equal length."
   ]
  },
  {
   "cell_type": "markdown",
   "id": "bb9e160b-9a50-4741-ac5f-28299e48ce66",
   "metadata": {},
   "source": [
    "Q9. If a data is right skewed then what will be the position of median with respect to mean?"
   ]
  },
  {
   "cell_type": "markdown",
   "id": "67ee9fcf-9116-4bde-866e-fd110c995eb2",
   "metadata": {},
   "source": [
    "In a right-skewed distribution, the median will typically be less than the mean.\n",
    "\n",
    "In a right-skewed distribution, the tail of the distribution extends towards the higher values. This means that there are a few extreme values on the higher end that pull the mean towards that direction. As a result, the mean is generally higher than the median.\n",
    "\n",
    "So, in a right-skewed distribution, you can expect the median to be positioned to the left of the mean."
   ]
  },
  {
   "cell_type": "markdown",
   "id": "d97be4be-2880-4a12-819d-4d06b577ec33",
   "metadata": {},
   "source": [
    "Q10. Explain the difference between covariance and correlation. How are these measures used in \n",
    "statistical analysis?"
   ]
  },
  {
   "cell_type": "markdown",
   "id": "ab7dfd69-05c7-4aac-8ce2-4315ac780f45",
   "metadata": {},
   "source": [
    "Covariance and correlation are both measures used to describe the relationship between two variables in statistical analysis. While they are related, there are key differences between them.\n",
    "\n",
    "1. Covariance:\n",
    "\n",
    "Covariance measures the degree to which two variables vary together. It indicates the direction (positive or negative) and the magnitude of the linear relationship between two variables.\n",
    "\n",
    "Covariance can take any value, positive or negative, depending on the direction of the relationship. A positive covariance indicates a direct relationship (both variables increase or decrease together), while a negative covariance indicates an inverse relationship (one variable increases while the other decreases).\n",
    "\n",
    "However, covariance alone does not provide a standardized measure, making it difficult to compare the strength of the relationship between different pairs of variables. Covariance values are also influenced by the scale of the variables.\n",
    "\n",
    "2. Correlation:\n",
    "\n",
    "Correlation is a standardized measure of the linear relationship between two variables. It represents the strength and direction of the linear association between the variables.\n",
    "\n",
    "Correlation coefficients range from -1 to 1. A correlation of +1 indicates a perfect positive linear relationship, 0 indicates no linear relationship, and -1 indicates a perfect negative linear relationship.\n",
    "\n",
    "Correlation is scale-independent, meaning it is not influenced by the scale of the variables. This allows for easier comparison of the strength of relationships between different pairs of variables.\n",
    "\n",
    "Correlation measures the strength of the linear relationship but does not imply causation. It indicates how well the relationship can be approximated by a straight line but does not provide information about the cause-and-effect relationship between the variables.\n",
    "\n",
    "Uses in Statistical Analysis:\n",
    "\n",
    "Covariance and correlation are used to study the relationship between variables in statistical analysis.\n",
    "Covariance is helpful in understanding the direction and strength of the relationship between two variables, but it does not provide a standardized measure of the strength.\n",
    "\n",
    "Correlation, on the other hand, provides a standardized measure that allows for easier comparison of relationships. It helps identify the strength and direction of the linear relationship between variables.\n",
    "\n",
    "Both covariance and correlation are used in various statistical analyses, such as regression analysis, time series analysis, and portfolio management, to assess the relationship and dependencies between variables. They provide insights into patterns, associations, and dependencies, aiding in data exploration, modeling, and decision-making processes."
   ]
  },
  {
   "cell_type": "markdown",
   "id": "cf408c7e-50ce-41ba-bbb1-d32ab9c1d5b8",
   "metadata": {},
   "source": [
    "Q11. What is the formula for calculating the sample mean? Provide an example calculation for a \n",
    "dataset"
   ]
  },
  {
   "cell_type": "markdown",
   "id": "4507e024-7e94-4943-a267-b5321c393214",
   "metadata": {},
   "source": [
    "The formula for calculating the sample mean (also known as the sample average) is as follows:\n",
    "\n",
    "Sample Mean = (Sum of all observations) / (Total number of observations)\n",
    "\n",
    "To illustrate this with an example calculation, let's consider the following dataset:\n",
    "\n",
    "Dataset: 10, 15, 20, 25, 30\n",
    "\n",
    "To calculate the sample mean:\n",
    "\n",
    "Step 1: Add up all the observations: 10 + 15 + 20 + 25 + 30 = 100\n",
    "\n",
    "Step 2: Determine the total number of observations: 5\n",
    "\n",
    "Step 3: Divide the sum by the total number of observations: 100 / 5 = 20\n",
    "\n",
    "Therefore, the sample mean of the given dataset is 20.\n"
   ]
  },
  {
   "cell_type": "markdown",
   "id": "1feb51cb-9306-43d3-a01a-8f863d5461b6",
   "metadata": {},
   "source": [
    "Q12. For a normal distribution data what is the relationship between its measure of central tendency?"
   ]
  },
  {
   "cell_type": "markdown",
   "id": "5f9a12dd-4e28-4c70-be31-df36149481c4",
   "metadata": {},
   "source": [
    "In a normal distribution, the measures of central tendency (mean, median, and mode) are all equal to each other.\n",
    "\n",
    "1. Mean: The mean of a normal distribution is located at the exact center of the distribution. It is calculated by summing all the values and dividing by the total number of observations. In a normal distribution, the mean is equal to the median and mode.\n",
    "\n",
    "2. Median: The median of a normal distribution is also located at the center of the distribution. It is the middle value when the data is arranged in ascending or descending order. In a perfectly symmetrical normal distribution, the median is equal to the mean and mode.\n",
    "\n",
    "3. Mode: The mode of a normal distribution is the value that occurs with the highest frequency. In a normal distribution, which is symmetric, there is only one mode. The mode coincides with the mean and median, making all three measures equal."
   ]
  },
  {
   "cell_type": "markdown",
   "id": "53b83936-3a93-4155-a774-0196730e66c7",
   "metadata": {},
   "source": [
    "Q13. How is covariance different from correlation?"
   ]
  },
  {
   "cell_type": "markdown",
   "id": "b2337d43-7215-4933-9f6b-4c4b238a36fc",
   "metadata": {},
   "source": [
    "Covariance and correlation are both measures used to describe the relationship between two variables, but they differ in terms of scale and interpretability:\n",
    "\n",
    "1. Scale:\n",
    "\n",
    "Covariance: Covariance measures the direction and magnitude of the linear relationship between two variables. The value of covariance is not standardized and depends on the scale of the variables. It can take any value, positive or negative, depending on the direction of the relationship and the scale of the variables.\n",
    "\n",
    "Correlation: Correlation is a standardized measure of the linear relationship between two variables. It ranges from -1 to 1, where +1 indicates a perfect positive linear relationship, -1 indicates a perfect negative linear relationship, and 0 indicates no linear relationship. Correlation is scale-independent and unaffected by the units or scales of the variables.\n",
    "\n",
    "2. Interpretability:\n",
    "\n",
    "Covariance: The covariance value itself does not have a clear interpretation or threshold for determining the strength of the relationship. It is difficult to compare covariance values across different datasets or pairs of variables due to their dependence on the scale.\n",
    "\n",
    "Correlation: Correlation provides a clear and interpretable measure of the strength and direction of the linear relationship between two variables. The correlation coefficient ranges from -1 to 1, where values closer to -1 or 1 indicate stronger linear relationships, and values close to 0 indicate a weak or no linear relationship. Correlation coefficients can be compared across different datasets or pairs of variables.\n",
    "\n",
    "3. Standardization:\n",
    "\n",
    "Covariance: Covariance is not standardized, and its value is affected by the scale of the variables. As a result, it can be challenging to compare the covariance between variables with different scales.\n",
    "\n",
    "Correlation: Correlation is standardized, making it easier to compare the strength of relationships across variables with different scales. The correlation coefficient is not affected by the scale of the variables."
   ]
  },
  {
   "cell_type": "markdown",
   "id": "775087de-c2a1-4bef-b6fe-0dc1a74e470d",
   "metadata": {},
   "source": [
    "Q14. How do outliers affect measures of central tendency and dispersion? Provide an example."
   ]
  },
  {
   "cell_type": "markdown",
   "id": "6d15d37c-87b0-4c64-9194-4a98f1bd8b18",
   "metadata": {},
   "source": [
    "Outliers can significantly impact measures of central tendency and dispersion in a dataset. Here's how outliers can affect these measures:\n",
    "\n",
    "1. Measures of Central Tendency:\n",
    "\n",
    "Mean: Outliers can greatly influence the mean because it is sensitive to extreme values. A single outlier with an extreme value can pull the mean towards that value, resulting in a skewed representation of the data. The mean may no longer accurately represent the typical value in the dataset.\n",
    "\n",
    "Median: Outliers have less impact on the median because it is resistant to extreme values. The median represents the middle value when the data is sorted, so an outlier will not significantly affect its value. The median provides a more robust measure of central tendency in the presence of outliers.\n",
    "\n",
    "Mode: Outliers do not directly affect the mode since it represents the most frequently occurring value(s). Outliers that occur once or a few times will not change the mode. However, if an outlier occurs repeatedly, it can create a new mode or shift the mode towards the outlier value.\n",
    "\n",
    "2. Measures of Dispersion:\n",
    "\n",
    "Range: Outliers can greatly affect the range because it is based on the difference between the maximum and minimum values. Even a single extreme outlier can significantly widen the range, making it less representative of the spread of the majority of the data.\n",
    "\n",
    "Variance: Outliers can have a substantial impact on the variance because it takes into account the squared deviations from the mean. Outliers with large deviations from the mean will contribute to higher variance, reflecting increased variability in the dataset.\n",
    "\n",
    "Standard Deviation: Similar to variance, outliers can influence the standard deviation as it is derived from the variance. Outliers with large deviations will contribute to a higher standard deviation, indicating greater dispersion in the data.\n",
    "\n",
    "Example:\n",
    "\n",
    "Consider a dataset of exam scores: [80, 85, 90, 92, 95, 98, 100, 500]. In this dataset, the score of 500 is an outlier. Let's see how it affects the measures:\n",
    "\n",
    "Mean: The presence of the outlier (500) significantly skews the mean towards the higher end. The mean will be much larger than the typical scores.\n",
    "\n",
    "Median: The median will be unaffected by the outlier. It will remain around the middle value of the sorted dataset (e.g., 92.5).\n",
    "\n",
    "Mode: The mode will be unaffected since the outlier is unique.\n",
    "\n",
    "Range: The range will be distorted by the outlier. It will be much larger due to the extreme difference between the outlier (500) and the other scores.\n",
    "\n",
    "Variance: The outlier's squared deviation will contribute to a higher variance, indicating increased variability in the dataset.\n",
    "\n",
    "Standard Deviation: The standard deviation will also be affected, being higher due to the presence of the outlier."
   ]
  },
  {
   "cell_type": "code",
   "execution_count": 15,
   "id": "28a57f73-977d-4d88-b297-cf8c96186936",
   "metadata": {},
   "outputs": [],
   "source": [
    "l1= [80, 85, 90, 92, 95, 98, 100]  #without outliers\n",
    "l2=[80, 85, 90, 92, 95, 98, 100, 500] #with outliers"
   ]
  },
  {
   "cell_type": "code",
   "execution_count": 18,
   "id": "d643464c-9a47-4ee1-8507-2d0785298092",
   "metadata": {},
   "outputs": [
    {
     "name": "stdout",
     "output_type": "stream",
     "text": [
      "Without Outliers -  91.42857142857143\n",
      "With Outliers -  142.5\n"
     ]
    }
   ],
   "source": [
    "# Mean\n",
    "print(\"Without Outliers - \", np.mean(l1))\n",
    "print(\"With Outliers - \" , np.mean(l2))"
   ]
  },
  {
   "cell_type": "code",
   "execution_count": 19,
   "id": "3dedfca5-402a-47d8-94c7-676b6e29f946",
   "metadata": {},
   "outputs": [
    {
     "name": "stdout",
     "output_type": "stream",
     "text": [
      "Without Outliers -  92.0\n",
      "With Outliers -  93.5\n"
     ]
    }
   ],
   "source": [
    "# Median\n",
    "\n",
    "print(\"Without Outliers - \", np.median(l1))\n",
    "print(\"With Outliers - \" , np.median(l2))"
   ]
  },
  {
   "cell_type": "code",
   "execution_count": 20,
   "id": "25f81881-3745-4ce8-a2d8-ce74d6c91744",
   "metadata": {},
   "outputs": [
    {
     "name": "stdout",
     "output_type": "stream",
     "text": [
      "Without Outliers -  ModeResult(mode=array([80]), count=array([1]))\n",
      "With Outliers -  ModeResult(mode=array([80]), count=array([1]))\n"
     ]
    },
    {
     "name": "stderr",
     "output_type": "stream",
     "text": [
      "/tmp/ipykernel_1658/3768910234.py:1: FutureWarning: Unlike other reduction functions (e.g. `skew`, `kurtosis`), the default behavior of `mode` typically preserves the axis it acts along. In SciPy 1.11.0, this behavior will change: the default value of `keepdims` will become False, the `axis` over which the statistic is taken will be eliminated, and the value None will no longer be accepted. Set `keepdims` to True or False to avoid this warning.\n",
      "  print(\"Without Outliers - \", stats.mode(l1))\n",
      "/tmp/ipykernel_1658/3768910234.py:2: FutureWarning: Unlike other reduction functions (e.g. `skew`, `kurtosis`), the default behavior of `mode` typically preserves the axis it acts along. In SciPy 1.11.0, this behavior will change: the default value of `keepdims` will become False, the `axis` over which the statistic is taken will be eliminated, and the value None will no longer be accepted. Set `keepdims` to True or False to avoid this warning.\n",
      "  print(\"With Outliers - \" , stats.mode(l2))\n"
     ]
    }
   ],
   "source": [
    "# Mode\n",
    "print(\"Without Outliers - \", stats.mode(l1))\n",
    "print(\"With Outliers - \" , stats.mode(l2))"
   ]
  },
  {
   "cell_type": "code",
   "execution_count": 23,
   "id": "b0d8ca89-5cac-4db0-b5b3-1b0b36be932b",
   "metadata": {},
   "outputs": [
    {
     "name": "stdout",
     "output_type": "stream",
     "text": [
      "Without Outliers -  20\n",
      "With Outliers -  420\n"
     ]
    }
   ],
   "source": [
    "#Range\n",
    "\n",
    "wo=np.max(l1) - np.min(l1)\n",
    "o=np.max(l2) - np.min(l2)\n",
    "print(\"Without Outliers - \", wo)\n",
    "print(\"With Outliers - \" , o)"
   ]
  },
  {
   "cell_type": "code",
   "execution_count": 21,
   "id": "709834a5-e2e9-4b17-850b-3e523dfba374",
   "metadata": {},
   "outputs": [
    {
     "name": "stdout",
     "output_type": "stream",
     "text": [
      "Without Outliers -  43.38775510204082\n",
      "With Outliers -  18296.0\n"
     ]
    }
   ],
   "source": [
    "print(\"Without Outliers - \", np.var(l1))\n",
    "print(\"With Outliers - \" , np.var(l2))"
   ]
  },
  {
   "cell_type": "code",
   "execution_count": 22,
   "id": "581cc015-f471-4972-9741-96f98bc0f7cb",
   "metadata": {},
   "outputs": [
    {
     "name": "stdout",
     "output_type": "stream",
     "text": [
      "Without Outliers -  6.5869382190848595\n",
      "With Outliers -  135.26270735128733\n"
     ]
    }
   ],
   "source": [
    "print(\"Without Outliers - \", np.std(l1))\n",
    "print(\"With Outliers - \" , np.std(l2))"
   ]
  },
  {
   "cell_type": "code",
   "execution_count": null,
   "id": "329836cb-59e7-4b38-b636-2c6b61541a55",
   "metadata": {},
   "outputs": [],
   "source": []
  }
 ],
 "metadata": {
  "kernelspec": {
   "display_name": "Python 3 (ipykernel)",
   "language": "python",
   "name": "python3"
  },
  "language_info": {
   "codemirror_mode": {
    "name": "ipython",
    "version": 3
   },
   "file_extension": ".py",
   "mimetype": "text/x-python",
   "name": "python",
   "nbconvert_exporter": "python",
   "pygments_lexer": "ipython3",
   "version": "3.10.8"
  }
 },
 "nbformat": 4,
 "nbformat_minor": 5
}
