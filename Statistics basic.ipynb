{
 "cells": [
  {
   "cell_type": "markdown",
   "id": "3781ff24-546b-4a09-9788-8f03b1b7dfc9",
   "metadata": {},
   "source": [
    "Q1. What is Statistics?"
   ]
  },
  {
   "cell_type": "markdown",
   "id": "810031a5-bac6-4c36-8edb-2256bdbba282",
   "metadata": {},
   "source": [
    "Statistics is the science of collecting,organizing and analyzing data.\n",
    "\n",
    "eg- Height of student in classroom- {175cm,180cm,135cm,176cm,129cm} etc..."
   ]
  },
  {
   "cell_type": "markdown",
   "id": "14bf9ae9-74c4-457d-b3c2-0757431236d9",
   "metadata": {},
   "source": [
    "Q2. Define the different types of statistics and give an example of when each type might be used."
   ]
  },
  {
   "cell_type": "markdown",
   "id": "16fc5bb9-00bd-4c75-9938-aad3e6ce8030",
   "metadata": {},
   "source": [
    "1. Descriptive Statistics: It consists of organising,summerising data.\n",
    "\n",
    "    Example: Calculating measures such as mean, median, and standard deviation to describe the central tendency, spread, and                distribution of a sample population.\n",
    "\n",
    "2. Inferential Statistics:It consists of using data we have measured to form conclusion or Inferential statistics make inferences or draw conclusions about a population based on a sample.\n",
    "\n",
    "\n",
    "    Example: Conducting hypothesis tests to determine if there is a significant difference between two groups or estimating         population parameters using sample data."
   ]
  },
  {
   "cell_type": "markdown",
   "id": "3ed8d40b-185d-4396-b4ae-b0a67747925a",
   "metadata": {},
   "source": [
    "Q3. What are the different types of data and how do they differ from each other? Provide an example of\n",
    "each type of data."
   ]
  },
  {
   "cell_type": "markdown",
   "id": "face83a3-65a3-4816-a41d-4ebdf32c9c2a",
   "metadata": {},
   "source": [
    "1. Nominal Data: Nominal data represents categories or labels that cannot be quantified or ordered.\n",
    "\n",
    "    Example: Eye color (categories: blue, brown, green)\n",
    "\n",
    "2. Ordinal Data: Ordinal data represents categories with a natural order or ranking.\n",
    "\n",
    "    Example: Educational attainment (categories: high school, bachelor's degree, master's degree, Ph.D.)\n",
    "\n",
    "3. Interval Data: Interval data represents numerical values with equal intervals between them but without a true zero point.\n",
    "\n",
    "    Example: Temperature in Celsius (values: 10°C, 20°C, 30°C)\n",
    "\n",
    "4. Ratio Data: Ratio data represents numerical values with equal intervals between them and a true zero point.\n",
    "\n",
    "    Example: Height in centimeters (values: 150 cm, 180 cm, 200 cm)\n",
    "\n",
    "The main differences between these types of data are the level of measurement and the properties they possess:\n",
    "\n",
    "1. Nominal data is the simplest form, where values are categorical and cannot be ranked or ordered.\n",
    "\n",
    "2. Ordinal data can be ranked or ordered, but the differences between the categories may not be uniform.\n",
    "\n",
    "3. Interval data has equal intervals between values but lacks a meaningful zero point, making it suitable for measuring differences but not ratios.\n",
    "\n",
    "4. Ratio data has equal intervals between values and a true zero point, allowing for meaningful ratios and comparisons.     "
   ]
  },
  {
   "cell_type": "markdown",
   "id": "fdc558f9-ba51-42d2-b470-9d046b40e8b0",
   "metadata": {},
   "source": [
    "Q4. Categorise the following datasets with respect to quantitative and qualitative data types:\n",
    "\n",
    "(i) Grading in exam: A+, A, B+, B, C+, C, D, E\n",
    "\n",
    "(ii) Colour of mangoes: yellow, green, orange, red\n",
    "\n",
    "(iii) Height data of a class: [178.9, 179, 179.5, 176, 177.2, 178.3, 175.8,...]\n",
    "\n",
    "(iv) Number of mangoes exported by a farm: [500, 600, 478, 672, ...]"
   ]
  },
  {
   "cell_type": "markdown",
   "id": "e059db7b-d59c-4025-ab8c-c9e2cc5fbfdc",
   "metadata": {},
   "source": [
    "(i) Grading in exam: A+, A, B+, B, C+, C, D, E       ----> Qualitative data\n",
    "\n",
    "(ii) Colour of mangoes: yellow, green, orange, red   ----> Qualitative data\n",
    "\n",
    "(iii) Height data of a class: [178.9, 179, 179.5, 176, 177.2, 178.3, 175.8,...] ----> Quantitative data\n",
    "\n",
    "(iv) Number of mangoes exported by a farm: [500, 600, 478, 672, ...]  ----> Quantitative data"
   ]
  },
  {
   "cell_type": "markdown",
   "id": "42c12a0b-2212-4c9e-8fe9-200718cb2e9e",
   "metadata": {},
   "source": [
    "Q5. Explain the concept of levels of measurement and give an example of a variable for each level."
   ]
  },
  {
   "cell_type": "markdown",
   "id": "68aa9478-73ce-46e9-84e6-5ade9a0adbeb",
   "metadata": {},
   "source": [
    "Levels of measurement, also known as scales of measurement, refer to the different categories or levels at which variables can be measured. There are four primary levels of measurement: nominal, ordinal, interval, and ratio. Each level has its unique characteristics, determining the mathematical operations that can be performed on the data and the types of statistical analyses that can be applied.\n",
    "\n",
    "Examples:-\n",
    "\n",
    "1. Nominal Level: Nominal level variables represent categories or labels without any inherent order or numerical meaning.\n",
    "    Example: Gender (categories: male, female, non-binary)\n",
    "    \n",
    "2. Ordinal Level: Ordinal level variables have categories with a natural order or ranking, but the differences between the categories may not be uniform or quantifiable.\n",
    "    Example: Educational attainment (categories: high school diploma, associate's degree, bachelor's degree, master's degree, Ph.D.)\n",
    "    \n",
    "3. Interval Level: Interval level variables have numerical values with equal intervals between them, but they lack a true zero point.\n",
    "    Example: Temperature in Celsius (values: 10°C, 20°C, 30°C)\n",
    "    \n",
    "4. Ratio Level: Ratio level variables have numerical values with equal intervals between them and a true zero point, allowing for meaningful ratios and comparisons.\n",
    "    Example: Weight in kilograms (values: 50 kg, 60 kg, 70 kg)"
   ]
  },
  {
   "cell_type": "markdown",
   "id": "4fb441c0-4a8d-44d8-a366-7dc20f03edd4",
   "metadata": {},
   "source": [
    "Q6. Why is it important to understand the level of measurement when analyzing data? Provide an\n",
    "example to illustrate your answer."
   ]
  },
  {
   "cell_type": "markdown",
   "id": "63e6be7e-6a22-4170-bedd-069b2b080b5d",
   "metadata": {},
   "source": [
    "Understanding the level of measurement is crucial when analyzing data because it determines the appropriate statistical techniques, calculations, and interpretations that can be applied to the data.\n",
    "\n",
    "Examples:-\n",
    "\n",
    "Suppose we have collected data on customer satisfaction with a rating scale ranging from 1 to 5, representing \"Very Dissatisfied\" to \"Very Satisfied.\" The level of measurement for this variable is ordinal because the categories have a natural order but the differences between the categories may not be equal.\n",
    "\n",
    "Scenario 1: Treating the variable as interval level\n",
    "If we incorrectly treat the customer satisfaction variable as interval level and calculate the mean satisfaction score for each group, you might interpret that a mean score of 3.5 indicates the average satisfaction level. However, due to the ordinal nature of the variable, calculating the mean is not meaningful as it assumes equal intervals between the categories. This could lead to misleading conclusions about the actual satisfaction levels.\n",
    "\n",
    "Scenario 2: Using appropriate ordinal level analysis\n",
    "Understanding that the variable is ordinal, you can employ appropriate statistical techniques. For example, you can calculate the median satisfaction score to determine the central tendency, which represents the middle value. You can also analyze the distribution using percentiles or conduct non-parametric tests like the Mann-Whitney U test to compare satisfaction levels between groups."
   ]
  },
  {
   "cell_type": "markdown",
   "id": "8c8250fa-4cb8-402f-bc80-7adc68f93cc8",
   "metadata": {},
   "source": [
    "Q7. How nominal data type is different from ordinal data type."
   ]
  },
  {
   "cell_type": "markdown",
   "id": "6053a75f-bee7-43fa-aae5-0372b664db03",
   "metadata": {},
   "source": [
    "1. Nature of Categories:\n",
    "\n",
    "Nominal Data: Nominal data consists of categories or labels without any inherent order or ranking. The categories are simply different and do not have a quantitative or ordinal relationship.\n",
    "\n",
    "Ordinal Data: Ordinal data also represents categories or labels, but they have a natural order or ranking. The categories have a relative position or rank, indicating a higher or lower value, but the differences between the categories may not be uniform or quantifiable.\n",
    "\n",
    "2. Mathematical Operations:\n",
    "\n",
    "Nominal Data: Nominal data does not support mathematical operations beyond basic counting or frequency calculations. Categories can be counted, and mode (most frequent category) can be determined.\n",
    "\n",
    "Ordinal Data: Ordinal data retains the ability to be counted like nominal data, but it also allows for comparisons of relative position or rank. It supports operations such as determining the median, percentiles, and conducting non-parametric tests.\n",
    "\n",
    "Examples:\n",
    "\n",
    "Nominal Data: Eye color (categories: blue, brown, green) is an example of nominal data. The categories represent different eye colors, but they do not have a natural order or ranking.\n",
    "\n",
    "Ordinal Data: Educational attainment (categories: high school diploma, associate's degree, bachelor's degree, master's degree, Ph.D.) is an example of ordinal data. The categories have an inherent order or ranking based on the level of education achieved."
   ]
  },
  {
   "cell_type": "markdown",
   "id": "2ff1f1ff-b756-48da-b873-201c58765ff9",
   "metadata": {},
   "source": [
    "Q8. Which type of plot can be used to display data in terms of range?"
   ]
  },
  {
   "cell_type": "markdown",
   "id": "c2f934f4-5cc0-44a4-8722-9548b7e6fd42",
   "metadata": {},
   "source": [
    "A box plot (also known as a box-and-whisker plot) is commonly used to display data in terms of range. A box plot provides a visual representation of the minimum, first quartile (25th percentile), median (50th percentile), third quartile (75th percentile), and maximum values of a dataset. It allows for a quick understanding of the spread and distribution of the data.\n",
    "\n",
    "In a box plot, the range is represented by the horizontal line or \"whiskers\" extending from the minimum value to the maximum value. The box itself represents the interquartile range (IQR), which spans from the first quartile to the third quartile. The median is typically indicated by a vertical line or a box within the larger box."
   ]
  },
  {
   "cell_type": "markdown",
   "id": "6e80cab3-8595-4d67-b656-14edb2788388",
   "metadata": {},
   "source": [
    "Q9. Describe the difference between descriptive and inferential statistics. Give an example of each\n",
    "type of statistics and explain how they are used."
   ]
  },
  {
   "cell_type": "markdown",
   "id": "eb00c65f-5fea-48b5-807c-8fafe7cf4328",
   "metadata": {},
   "source": [
    "Descriptive statistics and inferential statistics are two branches of statistical analysis that serve distinct purposes. Here's an explanation of the differences between the two along with examples and their applications:\n",
    "\n",
    "1. Descriptive Statistics: Descriptive statistics involves summarizing and describing the main features of a dataset using measures and graphical representations. It aims to provide a clear and concise understanding of the data.\n",
    "\n",
    "Example: Calculating the mean, median, and standard deviation of a dataset. Creating histograms, bar charts, or pie charts to visualize the data distribution.\n",
    "\n",
    "Application: Descriptive statistics are used to describe, summarize, and explore data. They are helpful in identifying patterns, trends, central tendencies, and variability within a dataset. Descriptive statistics are commonly used in data exploration, reporting, and preliminary analysis.\n",
    "\n",
    "2. Inferential Statistics: Inferential statistics involves making inferences or drawing conclusions about a population based on a sample. It uses sample data to make generalizations or predictions about a larger population.\n",
    "\n",
    "Example: Conducting hypothesis tests, confidence intervals, or regression analysis. Applying ANOVA (Analysis of Variance) or chi-square tests to examine relationships or differences between groups.\n",
    "\n",
    "Application: Inferential statistics are used when we want to make inferences or generalize findings beyond the observed sample. They help us draw conclusions, test hypotheses, make predictions, and quantify the level of confidence or uncertainty in the results. Inferential statistics are common in scientific research, surveys, opinion polls, quality control, and decision-making."
   ]
  },
  {
   "cell_type": "markdown",
   "id": "3c7486dd-2b69-4cbe-b126-1c1f289c49cb",
   "metadata": {},
   "source": [
    "Q10. What are some common measures of central tendency and variability used in statistics? Explain\n",
    "how each measure can be used to describe a dataset."
   ]
  },
  {
   "cell_type": "markdown",
   "id": "27b287a6-f538-4aab-bdde-bf934c568297",
   "metadata": {},
   "source": [
    "In statistics, measures of central tendency and variability are used to describe the characteristics and distribution of a dataset. Here are some common measures of central tendency and variability are:\n",
    "\n",
    "Measures of Central Tendency:\n",
    "\n",
    "1. Mean: The mean is the average value of a dataset. It is calculated by summing all the values and dividing by the total number of observations. The mean provides a measure of the dataset's central value and is sensitive to extreme values or outliers.\n",
    "\n",
    "2. Median: The median represents the middle value in a sorted dataset. It is not affected by extreme values or outliers and provides a measure of the dataset's central value. The median is useful when the data is skewed or contains extreme values.\n",
    "\n",
    "3. Mode: The mode is the most frequently occurring value in a dataset. It provides information about the most common or typical value. The mode is often used for categorical or discrete data.\n",
    "\n",
    "Measures of Variability:\n",
    "\n",
    "1. Range: The range is the difference between the maximum and minimum values in a dataset. It provides an indication of the spread or variability of the dataset.\n",
    "\n",
    "2. Variance: The variance measures the average squared deviation from the mean. It quantifies the dispersion of data points around the mean. A higher variance indicates greater variability in the dataset.\n",
    "\n",
    "3. Standard Deviation: The standard deviation is the square root of the variance. It provides a measure of the average distance between each data point and the mean. The standard deviation is widely used to assess the spread or dispersion of the dataset.\n",
    "\n",
    "These measures of central tendency and variability offer different perspectives on the dataset. Measures of central tendency (mean, median, mode) describe the central value or typical value of the dataset, while measures of variability (range, variance, standard deviation) quantify the spread or dispersion of the data points. By considering both measures together, statisticians gain a comprehensive understanding of the dataset's central value and how the data is distributed around that central value."
   ]
  },
  {
   "cell_type": "code",
   "execution_count": null,
   "id": "147442c6-b49e-47be-b99c-58d4b919fa77",
   "metadata": {},
   "outputs": [],
   "source": []
  }
 ],
 "metadata": {
  "kernelspec": {
   "display_name": "Python 3 (ipykernel)",
   "language": "python",
   "name": "python3"
  },
  "language_info": {
   "codemirror_mode": {
    "name": "ipython",
    "version": 3
   },
   "file_extension": ".py",
   "mimetype": "text/x-python",
   "name": "python",
   "nbconvert_exporter": "python",
   "pygments_lexer": "ipython3",
   "version": "3.10.8"
  }
 },
 "nbformat": 4,
 "nbformat_minor": 5
}
