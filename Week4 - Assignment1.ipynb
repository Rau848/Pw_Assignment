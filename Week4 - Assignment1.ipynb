{
 "cells": [
  {
   "cell_type": "markdown",
   "id": "f1f2ab28-34d4-47b4-aea7-e44b3a115f42",
   "metadata": {},
   "source": [
    "Q1, Create a vehicle class with an init method having instance variables as name_of_vehicle, max_speed\n",
    "and average_of_vehicle."
   ]
  },
  {
   "cell_type": "code",
   "execution_count": 2,
   "id": "fb79b942-0ff3-4acf-b6df-8af175cc978b",
   "metadata": {},
   "outputs": [],
   "source": [
    "class Vehicle:\n",
    "    \n",
    "    def __init__(self,name_of_vehicle,max_speed,average_of_vehicle):\n",
    "        self.name_of_vehicle=name_of_vehicle\n",
    "        self.max_speed=max_speed\n",
    "        self.average_of_vehicle=average_of_vehicle\n",
    "        \n",
    "    def display_details(self):\n",
    "        return self.name_of_vehicle,self.max_speed,self.average_of_vehicle\n"
   ]
  },
  {
   "cell_type": "code",
   "execution_count": 6,
   "id": "95cb9fc2-7608-4f02-ad3a-8f91ae427bf3",
   "metadata": {},
   "outputs": [],
   "source": [
    "veh=Vehicle(\"Car\",180,12)"
   ]
  },
  {
   "cell_type": "code",
   "execution_count": 7,
   "id": "ec3f085f-f78a-4d79-a59d-57454b1b6999",
   "metadata": {},
   "outputs": [
    {
     "data": {
      "text/plain": [
       "('Car', 180, 12)"
      ]
     },
     "execution_count": 7,
     "metadata": {},
     "output_type": "execute_result"
    }
   ],
   "source": [
    "veh.display_details()"
   ]
  },
  {
   "cell_type": "markdown",
   "id": "859d7981-def6-4fbc-b006-03a011a56d73",
   "metadata": {},
   "source": [
    "Q2. Create a child class car from the vehicle class created in Que 1, which will inherit the vehicle class.\n",
    "Create a method named seating_capacity which takes capacity as an argument and returns the name of\n",
    "the vehicle and its seating capacity."
   ]
  },
  {
   "cell_type": "code",
   "execution_count": null,
   "id": "7f66fc6f-32e7-47b0-aefb-c81316f4090b",
   "metadata": {},
   "outputs": [],
   "source": [
    "class Vehicle:\n",
    "    \n",
    "    def __init__(self,name_of_vehicle,max_speed,average_of_vehicle):\n",
    "        self.name_of_vehicle=name_of_vehicle\n",
    "        self.max_speed=max_speed\n",
    "        self.average_of_vehicle=average_of_vehicle\n",
    "        \n",
    "    "
   ]
  },
  {
   "cell_type": "code",
   "execution_count": 11,
   "id": "fbb84653-fa9a-45d0-8d33-d08ebdb80a09",
   "metadata": {},
   "outputs": [],
   "source": [
    "class Car(Vehicle):\n",
    "    \n",
    "    def seating_capacity(self,capacity):\n",
    "        self.capacity=capacity\n",
    "        return self.name_of_vehicle, self.capacity"
   ]
  },
  {
   "cell_type": "code",
   "execution_count": 22,
   "id": "25cd5724-998b-45a7-af94-4d73f3617ad1",
   "metadata": {},
   "outputs": [
    {
     "data": {
      "text/plain": [
       "('Car', 6)"
      ]
     },
     "execution_count": 22,
     "metadata": {},
     "output_type": "execute_result"
    }
   ],
   "source": [
    "#veh=Vehicle(\"Car\",120,12)\n",
    "car=Car(\"Car\",120,12)\n",
    "car.seating_capacity(6)"
   ]
  },
  {
   "cell_type": "markdown",
   "id": "5ba7cb27-e240-4a13-a74b-ff5044b2e9e6",
   "metadata": {},
   "source": [
    "Q3. What is multiple inheritance? Write a python code to demonstrate multiple inheritance."
   ]
  },
  {
   "cell_type": "markdown",
   "id": "15b133c7-7068-4f23-81b2-81d92a313258",
   "metadata": {},
   "source": [
    "A class can be derived from more than one superclass in Python. This is called multiple inheritance.\n",
    "\n",
    "eg- Class C is derived from superclasses Class A and Class B\n",
    "\n",
    "class A:\n",
    "\n",
    "class B:\n",
    "\n",
    "class C(A,B):"
   ]
  },
  {
   "cell_type": "code",
   "execution_count": 23,
   "id": "015dc9af-7ba8-4f98-9005-63989fe8edb7",
   "metadata": {},
   "outputs": [
    {
     "name": "stdout",
     "output_type": "stream",
     "text": [
      "In class Parent1\n",
      "In class Parent2\n"
     ]
    }
   ],
   "source": [
    "class Parent1:\n",
    "    def display1(self):\n",
    "        print(\"In class Parent1\")\n",
    "class Parent2:\n",
    "    def display2(self):\n",
    "        print(\"In class Parent2\")\n",
    "class Child(Parent1, Parent2):\n",
    "    pass\n",
    "obj = Child()\n",
    "obj.display1()\n",
    "obj.display2()"
   ]
  },
  {
   "cell_type": "markdown",
   "id": "276d0d49-61a4-475b-8e25-439188593ba9",
   "metadata": {},
   "source": [
    "Q4. What are getter and setter in python? Create a class and create a getter and a setter method in this\n",
    "class."
   ]
  },
  {
   "cell_type": "markdown",
   "id": "b577df11-4a63-4071-a303-fa1356971a5e",
   "metadata": {},
   "source": [
    "Getter- A method that allows you to access an attribute in a given class\n",
    "\n",
    "Setter- A method that allows you to set or mutate the value of an attribute in a class"
   ]
  },
  {
   "cell_type": "code",
   "execution_count": 25,
   "id": "42a7d8e2-efde-42c0-adf5-cdb5882e98a5",
   "metadata": {},
   "outputs": [
    {
     "name": "stdout",
     "output_type": "stream",
     "text": [
      "45\n"
     ]
    }
   ],
   "source": [
    "class Age:   \n",
    "    def __init__(self, age = 0):   \n",
    "         self._age = age   \n",
    "        \n",
    "    def get_age(self):   \n",
    "        return self._age   \n",
    "        \n",
    "    def set_age(self, a):   \n",
    "        self._age = a   \n",
    "    \n",
    "man = Age()    \n",
    "man.set_age(45)    \n",
    "print(man.get_age())   \n",
    "      "
   ]
  },
  {
   "cell_type": "markdown",
   "id": "998c48ad-32f4-4078-92bd-c5a2ee32e7da",
   "metadata": {},
   "source": [
    "Q5.What is method overriding in python? Write a python code to demonstrate method overriding."
   ]
  },
  {
   "cell_type": "markdown",
   "id": "33e2051f-e9fd-4f6c-aef2-71ac58a6d20b",
   "metadata": {},
   "source": [
    "The overriding method allows a child class to provide a specific implementation of a method that is already provided by one of its parent classes."
   ]
  },
  {
   "cell_type": "code",
   "execution_count": 30,
   "id": "d79d94db-b0ca-4e18-aa4f-2456100f01b6",
   "metadata": {},
   "outputs": [],
   "source": [
    "class Shape:\n",
    "    data1 = \"abc\"\n",
    "\n",
    "    def no_of_sides(self):\n",
    "        print(\"My sides need to be defined. I am from shape class.\")\n",
    " \n",
    "    def two_dimensional(self):\n",
    "        print(\"I am a 2D object. I am from shape class\")\n"
   ]
  },
  {
   "cell_type": "code",
   "execution_count": 31,
   "id": "b3c38e91-f508-4008-8989-b43b17f88f8f",
   "metadata": {},
   "outputs": [],
   "source": [
    "class Square (Shape):\n",
    "    data2 = \"XYZ\"\n",
    "\n",
    "    def no_of_sides (self):\n",
    "        print(\"I have 4 sides. I am from Square class\")\n",
    "\n",
    "    def color(self):\n",
    "        print(\"I have Red color. I am from Square class.\")"
   ]
  },
  {
   "cell_type": "code",
   "execution_count": 32,
   "id": "655cf85e-7b1c-4cf4-8556-8ecbab302706",
   "metadata": {},
   "outputs": [
    {
     "name": "stdout",
     "output_type": "stream",
     "text": [
      "I have 4 sides. I am from Square class\n",
      "I am a 2D object. I am from shape class\n",
      "I have Red color. I am from Square class.\n"
     ]
    }
   ],
   "source": [
    "sq = Square() \n",
    "sq.no_of_sides()  #overriding\n",
    "sq.two_dimensional()  \n",
    "sq.color()"
   ]
  },
  {
   "cell_type": "code",
   "execution_count": null,
   "id": "41636442-b6ad-4ba0-b88e-7b3cf7386f31",
   "metadata": {},
   "outputs": [],
   "source": []
  }
 ],
 "metadata": {
  "kernelspec": {
   "display_name": "Python 3 (ipykernel)",
   "language": "python",
   "name": "python3"
  },
  "language_info": {
   "codemirror_mode": {
    "name": "ipython",
    "version": 3
   },
   "file_extension": ".py",
   "mimetype": "text/x-python",
   "name": "python",
   "nbconvert_exporter": "python",
   "pygments_lexer": "ipython3",
   "version": "3.10.8"
  }
 },
 "nbformat": 4,
 "nbformat_minor": 5
}
