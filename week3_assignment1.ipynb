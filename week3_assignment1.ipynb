{
 "cells": [
  {
   "cell_type": "markdown",
   "id": "18def41b-17bd-4de1-8855-037a7ac74470",
   "metadata": {},
   "source": [
    "Q1. Which keyword is used to create a function? Create a function to return a list of odd numbers in the\n",
    "range of 1 to 25."
   ]
  },
  {
   "cell_type": "markdown",
   "id": "9fbb2480-6bb7-4542-af2b-07fc8552951b",
   "metadata": {},
   "source": [
    "def keyword is used to create the function."
   ]
  },
  {
   "cell_type": "code",
   "execution_count": 3,
   "id": "42adab50-e0ba-491f-8047-c3998e607bfa",
   "metadata": {},
   "outputs": [
    {
     "name": "stdout",
     "output_type": "stream",
     "text": [
      "[1, 2, 3, 4, 5, 6, 7, 8, 9, 10, 11, 12, 13, 14, 15, 16, 17, 18, 19, 20, 21, 22, 23, 24, 25]\n"
     ]
    }
   ],
   "source": [
    "l=[]\n",
    "for x in range(1,26):\n",
    "    l.append(x)\n",
    "print(l)"
   ]
  },
  {
   "cell_type": "code",
   "execution_count": 4,
   "id": "952c013d-c9d4-4fb4-93d2-5f2aaeeb0517",
   "metadata": {},
   "outputs": [],
   "source": [
    "def odd(x):\n",
    "    if x%2!=0:\n",
    "        return x\n",
    "    "
   ]
  },
  {
   "cell_type": "code",
   "execution_count": 6,
   "id": "0a3e63b3-5f8d-4eff-9b4c-fa86346f4171",
   "metadata": {},
   "outputs": [
    {
     "data": {
      "text/plain": [
       "[1, 3, 5, 7, 9, 11, 13, 15, 17, 19, 21, 23, 25]"
      ]
     },
     "execution_count": 6,
     "metadata": {},
     "output_type": "execute_result"
    }
   ],
   "source": [
    "list(filter(odd,l))"
   ]
  },
  {
   "cell_type": "markdown",
   "id": "ef001a7a-26cb-45a4-9426-6fd0863d6d71",
   "metadata": {},
   "source": [
    "Q2. Why *args and **kwargs is used in some functions? Create a function each for *args and **kwargs\n",
    "to demonstrate their use."
   ]
  },
  {
   "cell_type": "markdown",
   "id": "5293be72-497d-4ff7-a072-f6516e162f92",
   "metadata": {},
   "source": [
    "*args allows to pass the n number of arguments to the function and **kwargs is used to pass the n number of arguments to the function in the form of dictonary."
   ]
  },
  {
   "cell_type": "code",
   "execution_count": 9,
   "id": "105e1737-f19c-459a-85fd-197662ec61e4",
   "metadata": {},
   "outputs": [
    {
     "data": {
      "text/plain": [
       "(1, 2, 3, 4)"
      ]
     },
     "execution_count": 9,
     "metadata": {},
     "output_type": "execute_result"
    }
   ],
   "source": [
    "def example1(*args):\n",
    "    return args\n",
    "\n",
    "example1(1,2,3,4,5,6,7,8,3,4,8)\n",
    "example1(1,2,3,4)\n",
    "\n",
    "#we can pass any number of argument to the function"
   ]
  },
  {
   "cell_type": "code",
   "execution_count": 10,
   "id": "ff62082f-d593-4021-b53f-68fda6de8a75",
   "metadata": {},
   "outputs": [
    {
     "data": {
      "text/plain": [
       "{'a': [1, 2, 3, 4], 'b': 'Raushan', 'c': 23.54}"
      ]
     },
     "execution_count": 10,
     "metadata": {},
     "output_type": "execute_result"
    }
   ],
   "source": [
    "def example2(** kwargs):\n",
    "    return kwargs\n",
    "\n",
    "example2(a=[1,2,3,4],b=\"Raushan\",c=23.54)\n",
    "\n",
    "#we can pass any number of argument to the function but in form of dictonary only"
   ]
  },
  {
   "cell_type": "markdown",
   "id": "c2c98a1f-cebb-4422-8363-606f1275e8d5",
   "metadata": {},
   "source": [
    "Q3. What is an iterator in python? Name the method used to initialise the iterator object and the method\n",
    "used for iteration. Use these methods to print the first five elements of the given list [2, 4, 6, 8, 10, 12, 14,\n",
    "16, 18, 20]."
   ]
  },
  {
   "cell_type": "markdown",
   "id": "c1ddf582-b7d6-4dc9-aaf1-5d60bdc472fb",
   "metadata": {},
   "source": [
    "Iterator are methods that iterate collections like lists, tuples, etc. Using an iterator method, we can loop through an object and return its elements.\n",
    "\n",
    "iter() method is used to initialize the iterator object.\n",
    "\n",
    "next() method is used for iteration."
   ]
  },
  {
   "cell_type": "code",
   "execution_count": 12,
   "id": "8d194d4b-1bbf-4dfa-a108-2ae8a8d68917",
   "metadata": {},
   "outputs": [
    {
     "name": "stdout",
     "output_type": "stream",
     "text": [
      "2\n",
      "4\n",
      "6\n",
      "8\n",
      "10\n"
     ]
    }
   ],
   "source": [
    "l=[2,4,6,8,10,12,14,16,18,20]\n",
    "l1=iter(l)\n",
    "for x in range(5):\n",
    "    print(next(l1))"
   ]
  },
  {
   "cell_type": "markdown",
   "id": "6251f349-1b8a-4f59-8581-263aa160685d",
   "metadata": {},
   "source": [
    "Q4. What is a generator function in python? Why yield keyword is used? Give an example of a generator\n",
    "function."
   ]
  },
  {
   "cell_type": "markdown",
   "id": "3dc46813-3707-4338-81a1-e8c783474f62",
   "metadata": {},
   "source": [
    "A generator-function is defined like a normal function, but whenever it needs to generate a value, it does so with the yield keyword rather than return. If the body of a def contains yield, the function automatically becomes a generator function. \n",
    "\n",
    "Yield is used to return the value from function.\n",
    "\n",
    "It is used for memory optimization. The generated value is not stored in the memory."
   ]
  },
  {
   "cell_type": "code",
   "execution_count": 23,
   "id": "21db598d-7df8-443e-a976-ba417db78458",
   "metadata": {},
   "outputs": [
    {
     "name": "stdout",
     "output_type": "stream",
     "text": [
      "1\n",
      "2\n",
      "3\n",
      "4\n",
      "5\n",
      "6\n",
      "7\n",
      "8\n",
      "9\n",
      "10\n"
     ]
    }
   ],
   "source": [
    "def gen_number():\n",
    "    x=0\n",
    "    while True:\n",
    "        x=x+1\n",
    "        yield x\n",
    "    \n",
    "num=gen_number()\n",
    "for x in range(1,11):\n",
    "    print(next(num))\n",
    "    \n",
    "# using generator function we are creating number from 1-10"
   ]
  },
  {
   "cell_type": "markdown",
   "id": "3dd99c31-b589-47ea-a0e8-14d8d18f9c90",
   "metadata": {},
   "source": [
    "Q5. Create a generator function for prime numbers less than 1000. Use the next() method to print the\n",
    "first 20 prime numbers."
   ]
  },
  {
   "cell_type": "code",
   "execution_count": 27,
   "id": "6bfd9175-1d3f-435d-b3e5-fdf530d2c5fc",
   "metadata": {},
   "outputs": [],
   "source": [
    "def prime_no():\n",
    "    for number in range(1,1000):\n",
    "        count=0\n",
    "        for i in range(2,(number//2+1)):\n",
    "            if number%i==0:\n",
    "                count=count+1\n",
    "                break\n",
    "                \n",
    "        if(count ==0 and number !=1):\n",
    "            yield number"
   ]
  },
  {
   "cell_type": "code",
   "execution_count": 28,
   "id": "1437ff62-c2b9-4bfb-b97a-d666ae055fc3",
   "metadata": {},
   "outputs": [],
   "source": [
    "prime=prime_no()"
   ]
  },
  {
   "cell_type": "code",
   "execution_count": 30,
   "id": "a9d4aa26-740c-4680-9286-4c399a649bf4",
   "metadata": {},
   "outputs": [
    {
     "name": "stdout",
     "output_type": "stream",
     "text": [
      "79\n",
      "83\n",
      "89\n",
      "97\n",
      "101\n",
      "103\n",
      "107\n",
      "109\n",
      "113\n",
      "127\n",
      "131\n",
      "137\n",
      "139\n",
      "149\n",
      "151\n",
      "157\n",
      "163\n",
      "167\n",
      "173\n",
      "179\n"
     ]
    }
   ],
   "source": [
    "for x in range(20):\n",
    "    print(next(prime))"
   ]
  },
  {
   "cell_type": "markdown",
   "id": "9ac31494-fdb8-416e-ad3e-1e33f9560fbe",
   "metadata": {},
   "source": [
    "Q6. Write a python program to print the first 10 Fibonacci numbers using a while loop."
   ]
  },
  {
   "cell_type": "code",
   "execution_count": 31,
   "id": "3c4e2a3d-b29f-4062-87cb-60e7c743908f",
   "metadata": {},
   "outputs": [],
   "source": [
    "def fib_no():\n",
    "    a,b=0,1\n",
    "    while True:\n",
    "        yield a\n",
    "        a,b=b,a+b"
   ]
  },
  {
   "cell_type": "code",
   "execution_count": 32,
   "id": "9110c326-be32-4fa3-9f8c-2230b88a15d7",
   "metadata": {},
   "outputs": [],
   "source": [
    "fib = fib_no()"
   ]
  },
  {
   "cell_type": "code",
   "execution_count": 33,
   "id": "54336209-b876-4050-a08d-c371e746a007",
   "metadata": {},
   "outputs": [
    {
     "name": "stdout",
     "output_type": "stream",
     "text": [
      "0\n",
      "1\n",
      "1\n",
      "2\n",
      "3\n",
      "5\n",
      "8\n",
      "13\n",
      "21\n",
      "34\n"
     ]
    }
   ],
   "source": [
    "for i in range(10):\n",
    "    print(next(fib))"
   ]
  },
  {
   "cell_type": "markdown",
   "id": "edd983cd-098e-4724-ad98-469b130236c9",
   "metadata": {},
   "source": [
    "Q7. Write a List Comprehension to iterate through the given string: ‘pwskills’.\n",
    "Expected output: ['p', 'w', 's', 'k', 'i', 'l', 'l', 's']"
   ]
  },
  {
   "cell_type": "code",
   "execution_count": 34,
   "id": "ed6a8ea7-cac9-4bad-a942-1453ac2866d9",
   "metadata": {},
   "outputs": [
    {
     "data": {
      "text/plain": [
       "['p', 'w', 's', 'k', 'i', 'l', 'l', 's']"
      ]
     },
     "execution_count": 34,
     "metadata": {},
     "output_type": "execute_result"
    }
   ],
   "source": [
    "s='pwskills'\n",
    "l=[x for x in s]\n",
    "l"
   ]
  },
  {
   "cell_type": "markdown",
   "id": "94c6a446-21e3-44c4-bd4d-61126d6ff24a",
   "metadata": {},
   "source": [
    "Q8. Write a python program to check whether a given number is Palindrome or not using a while loop."
   ]
  },
  {
   "cell_type": "code",
   "execution_count": 37,
   "id": "64a11de4-0df2-4ea3-9429-1d7ce1b26ba1",
   "metadata": {},
   "outputs": [
    {
     "name": "stdin",
     "output_type": "stream",
     "text": [
      "Enter a number: 1324\n"
     ]
    },
    {
     "name": "stdout",
     "output_type": "stream",
     "text": [
      "Not a palindrome!\n"
     ]
    }
   ],
   "source": [
    "num=int(input(\"Enter a number:\"))\n",
    "temp=num\n",
    "rev=0\n",
    "while(num):\n",
    "    dig=num%10\n",
    "    rev=rev*10+dig\n",
    "    num=num//10\n",
    "if(temp==rev):\n",
    "    print(\"The number is palindrome!\")\n",
    "else:\n",
    "    print(\"Not a palindrome!\")"
   ]
  },
  {
   "cell_type": "markdown",
   "id": "e25dc166-876b-4629-8cb6-86a95570bca8",
   "metadata": {},
   "source": [
    "Q9. Write a code to print odd numbers from 1 to 100 using list comprehension."
   ]
  },
  {
   "cell_type": "code",
   "execution_count": 41,
   "id": "7aed1522-50e1-40ba-96f2-b5342a28f894",
   "metadata": {},
   "outputs": [
    {
     "name": "stdout",
     "output_type": "stream",
     "text": [
      "[1, 2, 3, 4, 5, 6, 7, 8, 9, 10, 11, 12, 13, 14, 15, 16, 17, 18, 19, 20, 21, 22, 23, 24, 25, 26, 27, 28, 29, 30, 31, 32, 33, 34, 35, 36, 37, 38, 39, 40, 41, 42, 43, 44, 45, 46, 47, 48, 49, 50, 51, 52, 53, 54, 55, 56, 57, 58, 59, 60, 61, 62, 63, 64, 65, 66, 67, 68, 69, 70, 71, 72, 73, 74, 75, 76, 77, 78, 79, 80, 81, 82, 83, 84, 85, 86, 87, 88, 89, 90, 91, 92, 93, 94, 95, 96, 97, 98, 99, 100],"
     ]
    }
   ],
   "source": [
    "l= [n for n in range(1,101)]\n",
    "\n",
    "print(l,end=',')"
   ]
  },
  {
   "cell_type": "code",
   "execution_count": 42,
   "id": "294f5c70-1b0c-40cd-a848-848fb631b490",
   "metadata": {},
   "outputs": [
    {
     "name": "stdout",
     "output_type": "stream",
     "text": [
      "[1, 3, 5, 7, 9, 11, 13, 15, 17, 19, 21, 23, 25, 27, 29, 31, 33, 35, 37, 39, 41, 43, 45, 47, 49, 51, 53, 55, 57, 59, 61, 63, 65, 67, 69, 71, 73, 75, 77, 79, 81, 83, 85, 87, 89, 91, 93, 95, 97, 99],"
     ]
    }
   ],
   "source": [
    "l= [n for n in range(1,101) if n%2!=0]\n",
    "print(l,end=',')"
   ]
  },
  {
   "cell_type": "code",
   "execution_count": null,
   "id": "1cf1a488-6f14-46ee-9a43-a2df60021684",
   "metadata": {},
   "outputs": [],
   "source": []
  }
 ],
 "metadata": {
  "kernelspec": {
   "display_name": "Python 3 (ipykernel)",
   "language": "python",
   "name": "python3"
  },
  "language_info": {
   "codemirror_mode": {
    "name": "ipython",
    "version": 3
   },
   "file_extension": ".py",
   "mimetype": "text/x-python",
   "name": "python",
   "nbconvert_exporter": "python",
   "pygments_lexer": "ipython3",
   "version": "3.10.8"
  }
 },
 "nbformat": 4,
 "nbformat_minor": 5
}
