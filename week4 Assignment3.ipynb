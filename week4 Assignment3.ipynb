{
 "cells": [
  {
   "cell_type": "markdown",
   "id": "fc379691-b3e4-4633-bf50-f76a1bb00336",
   "metadata": {},
   "source": [
    "Q1. What is Abstraction in OOps? Explain with an example."
   ]
  },
  {
   "cell_type": "markdown",
   "id": "28e8ac13-739d-45d8-94bb-602f2fdb1846",
   "metadata": {},
   "source": [
    "Abstraction is a fundamental concept in object-oriented programming that helps to encapsulate the implementation details of a class from its users. It allows users to interact with a class without needing to know how it works internally.\n",
    "\n",
    "eg:-"
   ]
  },
  {
   "cell_type": "code",
   "execution_count": 1,
   "id": "7c401987-85fc-4da9-aa7b-7d8ff2b1ece2",
   "metadata": {},
   "outputs": [],
   "source": [
    "from abc import ABC, abstractmethod\n",
    "class Shape(ABC):\n",
    "    @abstractmethod\n",
    "    def area(self):\n",
    "        pass\n",
    "class Rectangle(Shape):\n",
    "    def __init__(self, width, height):\n",
    "        self.width = width\n",
    "        self.height = height\n",
    "    \n",
    "    def area(self):\n",
    "        return self.width * self.height"
   ]
  },
  {
   "cell_type": "code",
   "execution_count": 2,
   "id": "b735dc24-6a7a-4810-af4a-b23edde32c65",
   "metadata": {},
   "outputs": [],
   "source": [
    "rect=Rectangle(50,20)"
   ]
  },
  {
   "cell_type": "code",
   "execution_count": 4,
   "id": "9b2242a5-b2fc-44a1-8996-14ec7156589c",
   "metadata": {},
   "outputs": [
    {
     "data": {
      "text/plain": [
       "1000"
      ]
     },
     "execution_count": 4,
     "metadata": {},
     "output_type": "execute_result"
    }
   ],
   "source": [
    "rect.area()"
   ]
  },
  {
   "cell_type": "markdown",
   "id": "74ecd9f0-4c52-4e50-b78b-bfacd197e6ca",
   "metadata": {},
   "source": [
    "Q2. Differentiate between Abstraction and Encapsulation. Explain with an example."
   ]
  },
  {
   "cell_type": "markdown",
   "id": "d3c1b95f-59b7-460c-bc87-424f4182fead",
   "metadata": {},
   "source": [
    "Abstraction shows only useful data by providing the most necessary details, whereas Encapsulation wraps code and data for necessary information\n",
    "\n",
    "wecan use abstraction using Interface and Abstract Class whereas we can implement encapsulation using Access Modifiers (Public, Protected & Private.)"
   ]
  },
  {
   "cell_type": "code",
   "execution_count": 5,
   "id": "c2a38ee5-b577-4110-a499-3cdaf0af9fd8",
   "metadata": {},
   "outputs": [
    {
     "data": {
      "text/plain": [
       "1200"
      ]
     },
     "execution_count": 5,
     "metadata": {},
     "output_type": "execute_result"
    }
   ],
   "source": [
    "#eg of Abstarction\n",
    "\n",
    "from abc import ABC, abstractmethod\n",
    "class Shape(ABC):\n",
    "    @abstractmethod\n",
    "    def area(self):\n",
    "        pass\n",
    "class Rectangle(Shape):\n",
    "    def __init__(self, width, height):\n",
    "        self.width = width\n",
    "        self.height = height\n",
    "    \n",
    "    def area(self):\n",
    "        return self.width * self.height\n",
    "    \n",
    "rect=Rectangle(48,25)\n",
    "rect.area()"
   ]
  },
  {
   "cell_type": "code",
   "execution_count": 6,
   "id": "509167f5-7a07-4dd7-9799-8f6059f42ca8",
   "metadata": {},
   "outputs": [
    {
     "data": {
      "text/plain": [
       "12"
      ]
     },
     "execution_count": 6,
     "metadata": {},
     "output_type": "execute_result"
    }
   ],
   "source": [
    "#eg of encapsulation\n",
    "\n",
    "class car:\n",
    "    \n",
    "    def __init__(self,year,make,model,speed):\n",
    "        self.__year=year\n",
    "        self.__make=make\n",
    "        self.__model=model\n",
    "        self.__speed=speed\n",
    "        \n",
    "    def set_speed(self,speed):\n",
    "        self.__speed=0 if speed < 0 else speed\n",
    "        \n",
    "    def get_speed(self):\n",
    "        return self.__speed\n",
    "\n",
    "c=car(2023,'Toyata','innova',12)\n",
    "c.get_speed()"
   ]
  },
  {
   "cell_type": "markdown",
   "id": "00392cf6-9cd5-4fdc-b0bd-95f342bac114",
   "metadata": {},
   "source": [
    "Q3. What is abc module in python? Why is it used?"
   ]
  },
  {
   "cell_type": "markdown",
   "id": "1fb47964-a620-4bcf-9c3e-76163ba1c22f",
   "metadata": {},
   "source": [
    " abc (abstract base class) module in python that offers the necessary tools for crafting an abstract base class. This is used in data abstraction."
   ]
  },
  {
   "cell_type": "code",
   "execution_count": 7,
   "id": "d3bf4979-3582-4233-9aab-b0e2d5aef8cd",
   "metadata": {},
   "outputs": [
    {
     "data": {
      "text/plain": [
       "1392"
      ]
     },
     "execution_count": 7,
     "metadata": {},
     "output_type": "execute_result"
    }
   ],
   "source": [
    " #eg-\n",
    "from abc import ABC, abstractmethod\n",
    "class Shape(ABC):\n",
    "    @abstractmethod\n",
    "    def area(self):\n",
    "        pass\n",
    "class Rectangle(Shape):\n",
    "    def __init__(self, width, height):\n",
    "        self.width = width\n",
    "        self.height = height\n",
    "    \n",
    "    def area(self):\n",
    "        return self.width * self.height\n",
    "    \n",
    "rect=Rectangle(48,29)\n",
    "rect.area()"
   ]
  },
  {
   "cell_type": "markdown",
   "id": "864d838f-bc6d-4744-86df-dd6d8b287fc5",
   "metadata": {},
   "source": [
    "Q4. How can we achieve data abstraction?"
   ]
  },
  {
   "cell_type": "markdown",
   "id": "56d25075-1957-4036-8c03-fcc3fd4b41e2",
   "metadata": {},
   "source": [
    "we can use the inbuild python class Abstract Base Class (ABC) to achieve data abstraction in python. We can say a class is an abstract class when a class contains an abstract method. We can use @abstractmethod keyword to define an abstract method in python"
   ]
  },
  {
   "cell_type": "code",
   "execution_count": 11,
   "id": "1dbb3434-74c7-431b-8f83-4845e8dd44be",
   "metadata": {},
   "outputs": [
    {
     "name": "stdout",
     "output_type": "stream",
     "text": [
      "Subject is Maths\n"
     ]
    }
   ],
   "source": [
    "#eg\n",
    "from abc import ABC,abstractmethod\n",
    "\n",
    "class Subject(ABC):\n",
    "    @abstractmethod\n",
    "    def subject(self):\n",
    "        pass\n",
    "    \n",
    "class Maths(Subject):\n",
    "    def subject(self):\n",
    "        print(\"Subject is Maths\")\n",
    "        \n",
    "maths=Maths()\n",
    "maths.subject()"
   ]
  },
  {
   "cell_type": "markdown",
   "id": "85529214-74a7-45d5-b824-c08833eb4688",
   "metadata": {},
   "source": [
    "Q5. Can we create an instance of an abstract class? Explain your answer."
   ]
  },
  {
   "cell_type": "markdown",
   "id": "4aeeb192-6873-46b5-870d-41b4b1bad27a",
   "metadata": {},
   "source": [
    "An Abstract class is a class that contains one or more abstract methods. Abstract classes cannot be instantiated.This means that we cannot create an object from an abstract class."
   ]
  },
  {
   "cell_type": "code",
   "execution_count": 12,
   "id": "4fe58afd-fe26-40f6-b428-2a3bde0a9988",
   "metadata": {},
   "outputs": [
    {
     "ename": "TypeError",
     "evalue": "Can't instantiate abstract class Aircraft with abstract method fly",
     "output_type": "error",
     "traceback": [
      "\u001b[0;31m---------------------------------------------------------------------------\u001b[0m",
      "\u001b[0;31mTypeError\u001b[0m                                 Traceback (most recent call last)",
      "Cell \u001b[0;32mIn[12], line 9\u001b[0m\n\u001b[1;32m      5\u001b[0m     \u001b[38;5;129m@abstractmethod\u001b[39m\n\u001b[1;32m      6\u001b[0m     \u001b[38;5;28;01mdef\u001b[39;00m \u001b[38;5;21mfly\u001b[39m(\u001b[38;5;28mself\u001b[39m):\n\u001b[1;32m      7\u001b[0m         \u001b[38;5;28;01mpass\u001b[39;00m\n\u001b[0;32m----> 9\u001b[0m aircraft1 \u001b[38;5;241m=\u001b[39m \u001b[43mAircraft\u001b[49m\u001b[43m(\u001b[49m\u001b[43m)\u001b[49m\n",
      "\u001b[0;31mTypeError\u001b[0m: Can't instantiate abstract class Aircraft with abstract method fly"
     ]
    }
   ],
   "source": [
    "from abc import ABC, abstractmethod\n",
    "\n",
    "class Aircraft(ABC):\n",
    "  \n",
    "    @abstractmethod\n",
    "    def fly(self):\n",
    "        pass\n",
    "\n",
    "aircraft1 = Aircraft()"
   ]
  },
  {
   "cell_type": "code",
   "execution_count": null,
   "id": "49ffe5de-742e-4a3d-a17f-8d38a63db806",
   "metadata": {},
   "outputs": [],
   "source": []
  }
 ],
 "metadata": {
  "kernelspec": {
   "display_name": "Python 3 (ipykernel)",
   "language": "python",
   "name": "python3"
  },
  "language_info": {
   "codemirror_mode": {
    "name": "ipython",
    "version": 3
   },
   "file_extension": ".py",
   "mimetype": "text/x-python",
   "name": "python",
   "nbconvert_exporter": "python",
   "pygments_lexer": "ipython3",
   "version": "3.10.8"
  }
 },
 "nbformat": 4,
 "nbformat_minor": 5
}
