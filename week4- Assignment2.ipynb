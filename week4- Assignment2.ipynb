{
 "cells": [
  {
   "cell_type": "markdown",
   "id": "3f0d2163-6e52-43a6-a85e-2e7134fa29f8",
   "metadata": {},
   "source": [
    "Q1. Explain Class and Object with respect to Object-Oriented Programming. Give a suitable example."
   ]
  },
  {
   "cell_type": "markdown",
   "id": "f965713a-49e9-4a04-b1d6-be75b567cb12",
   "metadata": {},
   "source": [
    "Class:-\n",
    "\n",
    "A class is a user-defined blueprint or prototype from which objects are created. Classes provide a means of bundling data and functionality together.\n",
    "\n",
    "1. Classes are created by keyword class.\n",
    "2. Attributes are the variables that belong to a class.\n",
    "\n",
    "eg:- class Test:\n",
    "            pass\n",
    "            \n",
    "            \n",
    "Object:-\n",
    "\n",
    "An Object is an instance of a Class.\n",
    "\n",
    "An object consists of:\n",
    "\n",
    "State: It is represented by the attributes of an object. It also reflects the properties of an object.\n",
    "\n",
    "Behavior: It is represented by the methods of an object. It also reflects the response of an object to other objects.\n",
    "\n",
    "Identity: It gives a unique name to an object and enables one object to interact with other objects.\n",
    "\n",
    "eg:-\n",
    "\n",
    "class Test:\n",
    "\n",
    "    def printName(self):\n",
    "    \n",
    "        print(\"Raushan Kumar\")\n",
    "        \n",
    "t=Test()\n",
    "\n",
    "t.printName"
   ]
  },
  {
   "cell_type": "markdown",
   "id": "d03e45ea-9e51-4a50-8a46-9ba8fad70b5d",
   "metadata": {},
   "source": [
    "Q2. Name the four pillars of OOPs."
   ]
  },
  {
   "cell_type": "markdown",
   "id": "924b2e11-bd96-47bd-98f9-af7caba80e7a",
   "metadata": {},
   "source": [
    "1. Abstraction - It hides unnecessary code details from the user\n",
    "\n",
    "2. Encapsulation - It describes the idea of wrapping data and the methods that work on data within one unit.\n",
    "\n",
    "3. Polymorphism - Polymorphism simply means having many forms\n",
    "\n",
    "4. Inheritance - Inheritance is the capability of one class to derive or inherit the properties from another class. The class that derives properties is called the derived class or child class and the class from which the properties are being derived is called the base class or parent class.\n",
    "\n",
    "Types of Inheritance\n",
    "\n",
    "Single Inheritance: Single-level inheritance enables a derived class to inherit characteristics from a single-parent class.\n",
    "\n",
    "Multilevel Inheritance: Multi-level inheritance enables a derived class to inherit properties from an immediate parent class which in turn inherits properties from his parent class. \n",
    "\n",
    "Hierarchical Inheritance: Hierarchical-level inheritance enables more than one derived class to inherit properties from a parent class.\n",
    "\n",
    "Multiple Inheritance: Multiple-level inheritance enables one derived class to inherit properties from more than one base class."
   ]
  },
  {
   "cell_type": "markdown",
   "id": "cc3745fb-9df4-44a8-8b9d-ee8983ed27a9",
   "metadata": {},
   "source": [
    "Q3. Explain why the __init__() function is used. Give a suitable example."
   ]
  },
  {
   "cell_type": "markdown",
   "id": "e4e49f87-6ce2-4cfd-8d34-52343e5df8cf",
   "metadata": {},
   "source": [
    "All classes have a function called __init__(), which is always executed when the class is being initiated.\n",
    "\n",
    "Use the __init__() function to assign values to object properties, or other operations that are necessary to do when the object is being created:\n",
    "\n",
    "eg:-\n",
    "\n"
   ]
  },
  {
   "cell_type": "code",
   "execution_count": 2,
   "id": "f3e85893-6aad-472b-8598-863c72f57bd6",
   "metadata": {},
   "outputs": [
    {
     "name": "stdout",
     "output_type": "stream",
     "text": [
      "Raushan\n",
      "25\n"
     ]
    }
   ],
   "source": [
    "class Person:\n",
    "\n",
    "    def __init__(self, name, age):\n",
    "  \n",
    "        self.name = name\n",
    "    \n",
    "        self.age = age\n",
    "\n",
    "p1 = Person(\"Raushan\", 25)\n",
    "\n",
    "print(p1.name)\n",
    "\n",
    "print(p1.age)"
   ]
  },
  {
   "cell_type": "markdown",
   "id": "8b42b737-0389-4fd2-8925-9747ce07e838",
   "metadata": {},
   "source": [
    "Q4. Why self is used in OOPs?"
   ]
  },
  {
   "cell_type": "markdown",
   "id": "68eb1f82-768c-4e2f-a08a-21ee9a7ddc9c",
   "metadata": {},
   "source": [
    "The self parameter is a reference to the current instance of the class, and is used to access variables that belongs to the class.\n",
    "\n",
    "It does not have to be named self , you can call it whatever you like, but it has to be the first parameter of any function in the class:"
   ]
  },
  {
   "cell_type": "code",
   "execution_count": 3,
   "id": "a080db53-3211-45ac-8f66-a26cccc17abb",
   "metadata": {},
   "outputs": [
    {
     "name": "stdout",
     "output_type": "stream",
     "text": [
      "Raushan\n",
      "25\n"
     ]
    }
   ],
   "source": [
    "class Person:\n",
    "\n",
    "    def __init__(self, name, age):\n",
    "  \n",
    "        self.name = name\n",
    "    \n",
    "        self.age = age\n",
    "\n",
    "p1 = Person(\"Raushan\", 25)\n",
    "\n",
    "print(p1.name)\n",
    "\n",
    "print(p1.age)"
   ]
  },
  {
   "cell_type": "markdown",
   "id": "29ede4ca-1c02-40d0-9987-cb8fa0c9a8f5",
   "metadata": {},
   "source": [
    "Q5. What is inheritance? Give an example for each type of inheritance."
   ]
  },
  {
   "cell_type": "markdown",
   "id": "261021e9-e1bf-4f9f-9dcb-d4dfb9d34c66",
   "metadata": {},
   "source": [
    "It is a mechanism that allows you to create a hierarchy of classes that share a set of properties and methods by deriving a class from another class. Inheritance is the capability of one class to derive or inherit the properties from another class. \n",
    "\n",
    "Types of Inheritance\n",
    "\n",
    "Single Inheritance: Single-level inheritance enables a derived class to inherit characteristics from a single-parent class.\n",
    "\n",
    "Multilevel Inheritance: Multi-level inheritance enables a derived class to inherit properties from an immediate parent class which in turn inherits properties from his parent class. \n",
    "\n",
    "Hierarchical Inheritance: Hierarchical-level inheritance enables more than one derived class to inherit properties from a parent class.\n",
    "\n",
    "Multiple Inheritance: Multiple-level inheritance enables one derived class to inherit properties from more than one base class."
   ]
  },
  {
   "cell_type": "code",
   "execution_count": 4,
   "id": "45e83020-a6e8-44ab-9c58-3e573f362ae8",
   "metadata": {},
   "outputs": [
    {
     "name": "stdout",
     "output_type": "stream",
     "text": [
      "I can eat\n",
      "My name is  Rohu\n"
     ]
    }
   ],
   "source": [
    "class Animal:\n",
    "    \n",
    "    name = \"\"\n",
    "    \n",
    "    def eat(self):\n",
    "        print(\"I can eat\")\n",
    "\n",
    "class Dog(Animal):\n",
    "\n",
    "    def display(self):\n",
    "        print(\"My name is \", self.name)\n",
    "\n",
    "labrador = Dog()\n",
    "labrador.name = \"Rohu\"\n",
    "labrador.eat()\n",
    "labrador.display()"
   ]
  },
  {
   "cell_type": "code",
   "execution_count": null,
   "id": "af0d6dfb-05a8-4d0f-907e-78d683e9e225",
   "metadata": {},
   "outputs": [],
   "source": []
  }
 ],
 "metadata": {
  "kernelspec": {
   "display_name": "Python 3 (ipykernel)",
   "language": "python",
   "name": "python3"
  },
  "language_info": {
   "codemirror_mode": {
    "name": "ipython",
    "version": 3
   },
   "file_extension": ".py",
   "mimetype": "text/x-python",
   "name": "python",
   "nbconvert_exporter": "python",
   "pygments_lexer": "ipython3",
   "version": "3.10.8"
  }
 },
 "nbformat": 4,
 "nbformat_minor": 5
}
